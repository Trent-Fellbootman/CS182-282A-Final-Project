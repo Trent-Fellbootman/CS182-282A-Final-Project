{
 "cells": [
  {
   "cell_type": "code",
   "execution_count": 1,
   "metadata": {},
   "outputs": [],
   "source": [
    "from library import datasets, models\n",
    "from flax import linen as nn\n",
    "from jax import random\n",
    "import plotly.io as pio\n",
    "pio.renderers.default = 'notebook_connected'"
   ]
  },
  {
   "cell_type": "code",
   "execution_count": 2,
   "metadata": {},
   "outputs": [],
   "source": [
    "taylor_pair_dis = datasets.point_dataset.PointPairDistribution.random_taylor(\n",
    "    latent_dim=2,\n",
    "    dis_A_dim=3,\n",
    "    dis_B_dim=3,\n",
    "    latent_range=1,\n",
    "    max_order=2,\n",
    "    coeff_range=1,\n",
    "    noise_std_A=0.05,\n",
    "    noise_std_B=0,\n",
    "    key=random.PRNGKey(2))\n",
    "\n",
    "dataset = taylor_pair_dis.generate_dataset(1000)"
   ]
  },
  {
   "cell_type": "code",
   "execution_count": 3,
   "metadata": {},
   "outputs": [],
   "source": [
    "A, B = dataset.get_all_point_pairs()"
   ]
  },
  {
   "cell_type": "code",
   "execution_count": 4,
   "metadata": {},
   "outputs": [],
   "source": [
    "discriminator = nn.Sequential([\n",
    "    nn.Dense(16),\n",
    "    nn.relu,\n",
    "    nn.Dense(32),\n",
    "    nn.relu,\n",
    "    nn.Dense(1),\n",
    "    nn.sigmoid\n",
    "])\n",
    "\n",
    "generator = nn.Sequential([\n",
    "    nn.Dense(16),\n",
    "    nn.relu,\n",
    "    nn.Dense(32),\n",
    "    nn.relu,\n",
    "    nn.Dense(3)\n",
    "])\n",
    "\n",
    "model = models.cyclegan.CycleGAN(generator, discriminator, A.shape)\n",
    "model.initialize()"
   ]
  },
  {
   "cell_type": "code",
   "execution_count": 15,
   "metadata": {},
   "outputs": [
    {
     "name": "stderr",
     "output_type": "stream",
     "text": [
      "iteration 19; gen_loss: -0.9802242517471313; dis_loss: 1.420127511024475: 100%|██████████| 20/20 [02:06<00:00,  6.32s/it] \n"
     ]
    }
   ],
   "source": [
    "model.train(A, B, 20)"
   ]
  },
  {
   "cell_type": "code",
   "execution_count": 16,
   "metadata": {},
   "outputs": [],
   "source": [
    "dist_AB = model.create_distribution()\n",
    "samples_B = dist_AB.draw_samples(A)"
   ]
  },
  {
   "cell_type": "code",
   "execution_count": 18,
   "metadata": {},
   "outputs": [
    {
     "data": {
      "text/plain": [
       "DeviceArray(755.6061, dtype=float32)"
      ]
     },
     "execution_count": 18,
     "metadata": {},
     "output_type": "execute_result"
    }
   ],
   "source": [
    "(B-samples_B).sum()"
   ]
  },
  {
   "cell_type": "code",
   "execution_count": null,
   "metadata": {},
   "outputs": [],
   "source": []
  }
 ],
 "metadata": {
  "interpreter": {
   "hash": "0e63ef9830c93e7df029a4fff902e45a4a263c62c6a96b09b2e252365616164b"
  },
  "kernelspec": {
   "display_name": "Python 3.9.13 ('eecs282a')",
   "language": "python",
   "name": "python3"
  },
  "language_info": {
   "codemirror_mode": {
    "name": "ipython",
    "version": 3
   },
   "file_extension": ".py",
   "mimetype": "text/x-python",
   "name": "python",
   "nbconvert_exporter": "python",
   "pygments_lexer": "ipython3",
   "version": "3.9.13"
  },
  "orig_nbformat": 4
 },
 "nbformat": 4,
 "nbformat_minor": 2
}
