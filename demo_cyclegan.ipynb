{
 "cells": [
  {
   "cell_type": "code",
   "execution_count": 1,
   "metadata": {},
   "outputs": [],
   "source": [
    "from library import datasets, models\n",
    "from flax import linen as nn\n",
    "from jax import random\n",
    "import plotly.io as pio\n",
    "pio.renderers.default = 'notebook_connected'"
   ]
  },
  {
   "cell_type": "code",
   "execution_count": 2,
   "metadata": {},
   "outputs": [],
   "source": [
    "taylor_pair_dis = datasets.point_dataset.PointPairDistribution.random_taylor(\n",
    "    latent_dim=2,\n",
    "    dis_A_dim=3,\n",
    "    dis_B_dim=3,\n",
    "    latent_range=1,\n",
    "    max_order=2,\n",
    "    coeff_range=1,\n",
    "    noise_std_A=0.05,\n",
    "    noise_std_B=0,\n",
    "    key=random.PRNGKey(2))\n",
    "\n",
    "dataset = taylor_pair_dis.generate_dataset(1000)"
   ]
  },
  {
   "cell_type": "code",
   "execution_count": 3,
   "metadata": {},
   "outputs": [],
   "source": [
    "A, B = dataset.get_all_point_pairs()"
   ]
  },
  {
   "cell_type": "code",
   "execution_count": 4,
   "metadata": {},
   "outputs": [],
   "source": [
    "discriminator = nn.Sequential([\n",
    "    nn.Dense(16),\n",
    "    nn.relu,\n",
    "    nn.Dense(32),\n",
    "    nn.relu,\n",
    "    nn.Dense(1),\n",
    "    nn.sigmoid\n",
    "])\n",
    "\n",
    "generator = nn.Sequential([\n",
    "    nn.Dense(16),\n",
    "    nn.relu,\n",
    "    nn.Dense(32),\n",
    "    nn.relu,\n",
    "    nn.Dense(3)\n",
    "])\n",
    "\n",
    "model = models.cyclegan.CycleGAN(generator, discriminator, A.shape)\n",
    "model.initialize()"
   ]
  },
  {
   "cell_type": "code",
   "execution_count": 5,
   "metadata": {},
   "outputs": [
    {
     "name": "stderr",
     "output_type": "stream",
     "text": [
      "iteration 4; gen_loss: -0.979665994644165; dis_loss: 1.419988989830017: 100%|██████████| 5/5 [00:34<00:00,  6.96s/it]  \n"
     ]
    }
   ],
   "source": [
    "model.train(A, B, 5)"
   ]
  },
  {
   "cell_type": "code",
   "execution_count": null,
   "metadata": {},
   "outputs": [],
   "source": []
  }
 ],
 "metadata": {
  "interpreter": {
   "hash": "0e63ef9830c93e7df029a4fff902e45a4a263c62c6a96b09b2e252365616164b"
  },
  "kernelspec": {
   "display_name": "Python 3.9.13 ('eecs282a')",
   "language": "python",
   "name": "python3"
  },
  "language_info": {
   "codemirror_mode": {
    "name": "ipython",
    "version": 3
   },
   "file_extension": ".py",
   "mimetype": "text/x-python",
   "name": "python",
   "nbconvert_exporter": "python",
   "pygments_lexer": "ipython3",
   "version": "3.9.13"
  },
  "orig_nbformat": 4
 },
 "nbformat": 4,
 "nbformat_minor": 2
}
