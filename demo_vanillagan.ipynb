{
 "cells": [
  {
   "cell_type": "code",
   "execution_count": 9,
   "metadata": {},
   "outputs": [],
   "source": [
    "from library import datasets, models\n",
    "from flax import linen as nn\n",
    "from jax import random\n",
    "import optax\n",
    "import plotly.io as pio\n",
    "pio.renderers.default = 'notebook_connected'"
   ]
  },
  {
   "cell_type": "code",
   "execution_count": 10,
   "metadata": {},
   "outputs": [],
   "source": [
    "taylor_pair_dis = datasets.point_dataset.PointPairDistribution.random_taylor(\n",
    "    latent_dim=2,\n",
    "    dis_A_dim=3,\n",
    "    dis_B_dim=3,\n",
    "    latent_range=1,\n",
    "    max_order=2,\n",
    "    coeff_range=1,\n",
    "    noise_std_A=0.05,\n",
    "    noise_std_B=0,\n",
    "    key=random.PRNGKey(2))\n",
    "\n",
    "dataset = taylor_pair_dis.generate_dataset(1000)"
   ]
  },
  {
   "cell_type": "code",
   "execution_count": 11,
   "metadata": {},
   "outputs": [],
   "source": [
    "A, B = dataset.get_all_point_pairs()"
   ]
  },
  {
   "cell_type": "code",
   "execution_count": 17,
   "metadata": {},
   "outputs": [
    {
     "name": "stdout",
     "output_type": "stream",
     "text": [
      "<library.models.vanilla_gan.VanillaGAN object at 0x7fbd88f5d970>\n"
     ]
    }
   ],
   "source": [
    "discriminator = nn.Sequential([\n",
    "    nn.Dense(16),\n",
    "    nn.relu,\n",
    "    nn.Dense(32),\n",
    "    nn.relu,\n",
    "    nn.Dense(1),\n",
    "    nn.sigmoid\n",
    "])\n",
    "\n",
    "generator = nn.Sequential([\n",
    "    nn.Dense(16),\n",
    "    nn.relu,\n",
    "    nn.Dense(32),\n",
    "    nn.relu,\n",
    "    nn.Dense(3)\n",
    "])\n",
    "\n",
    "model = models.vanilla_gan.VanillaGAN(generator, discriminator, A.shape)\n",
    "print(model)\n",
    "model.initialize(loss_fn = optax.sigmoid_binary_cross_entropy)"
   ]
  },
  {
   "cell_type": "code",
   "execution_count": 13,
   "metadata": {},
   "outputs": [
    {
     "name": "stderr",
     "output_type": "stream",
     "text": [
      "iteration 9; gen_loss: -0.4951954185962677; dis_loss: 0.4615803360939026: 100%|██████████| 10/10 [00:19<00:00,  1.98s/it] \n"
     ]
    }
   ],
   "source": [
    "model.train(A,optax.sgd)"
   ]
  },
  {
   "cell_type": "code",
   "execution_count": 18,
   "metadata": {},
   "outputs": [
    {
     "ename": "TypeError",
     "evalue": "__init__() missing 1 required positional argument: 'latent_dim'",
     "output_type": "error",
     "traceback": [
      "\u001b[0;31m---------------------------------------------------------------------------\u001b[0m",
      "\u001b[0;31mTypeError\u001b[0m                                 Traceback (most recent call last)",
      "Cell \u001b[0;32mIn [18], line 1\u001b[0m\n\u001b[0;32m----> 1\u001b[0m dist_B \u001b[39m=\u001b[39m model\u001b[39m.\u001b[39;49mcreate_distribution()\n\u001b[1;32m      2\u001b[0m samples_B \u001b[39m=\u001b[39m dist_B\u001b[39m.\u001b[39mdraw_samples(A)\n",
      "File \u001b[0;32m~/vscode/Berkeley/DeepLearning/CS182-282A-Final-Project/library/models/vanilla_gan.py:94\u001b[0m, in \u001b[0;36mVanillaGAN.create_distribution\u001b[0;34m(self)\u001b[0m\n\u001b[1;32m     93\u001b[0m \u001b[39mdef\u001b[39;00m \u001b[39mcreate_distribution\u001b[39m(\u001b[39mself\u001b[39m):\n\u001b[0;32m---> 94\u001b[0m     \u001b[39mreturn\u001b[39;00m GANDistribution(\u001b[39mself\u001b[39;49m\u001b[39m.\u001b[39;49m__generator)\n",
      "\u001b[0;31mTypeError\u001b[0m: __init__() missing 1 required positional argument: 'latent_dim'"
     ]
    }
   ],
   "source": [
    "dist_B = model.create_distribution()\n",
    "samples_B = dist_B.draw_samples(A)"
   ]
  },
  {
   "cell_type": "code",
   "execution_count": null,
   "metadata": {},
   "outputs": [],
   "source": [
    "(B-samples_B).sum()"
   ]
  }
 ],
 "metadata": {
  "kernelspec": {
   "display_name": "Python 3.8.15 ('pytorch-CycleGAN-and-pix2pix')",
   "language": "python",
   "name": "python3"
  },
  "language_info": {
   "codemirror_mode": {
    "name": "ipython",
    "version": 3
   },
   "file_extension": ".py",
   "mimetype": "text/x-python",
   "name": "python",
   "nbconvert_exporter": "python",
   "pygments_lexer": "ipython3",
   "version": "3.8.15"
  },
  "orig_nbformat": 4,
  "vscode": {
   "interpreter": {
    "hash": "e7ce7d5739a3ea99b8298d1153aa750d71d9f66067b60f4f645831fbeee34995"
   }
  }
 },
 "nbformat": 4,
 "nbformat_minor": 2
}
