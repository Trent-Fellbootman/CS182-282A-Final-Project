{
 "cells": [
  {
   "cell_type": "markdown",
   "metadata": {},
   "source": [
    "# Environment Setup"
   ]
  },
  {
   "cell_type": "markdown",
   "metadata": {},
   "source": [
    "If your installation failed, the cause is most likely your Windows machine being unable to install `jaxlib`. We found that it is possible using the wheel file, which we will provide a thorough walkthrough of below.\n",
    "1. Navigate to https://whls.blob.core.windows.net/unstable/index.html\n",
    "2. Download the cpu version of jaxlib 0.3.22 that works with your Python version. I.e. if you use Python 3.9, you should install https://whls.blob.core.windows.net/unstable/cpu/jaxlib-0.3.22-cp39-cp39-win_amd64.whl\n",
    "3. Place the .whl file in the same folder as this notebook and run `!pip install <filename>`.\n",
    "4. Pip install the requirements.txt (this might take a couple of minutes)."
   ]
  },
  {
   "cell_type": "code",
   "execution_count": null,
   "metadata": {},
   "outputs": [],
   "source": [
    "!pip install jaxlib-0.3.22-cp39-cp39-win_amd64.whl"
   ]
  },
  {
   "cell_type": "code",
   "execution_count": null,
   "metadata": {},
   "outputs": [],
   "source": [
    "!pip install -r requirements.txt"
   ]
  }
 ],
 "metadata": {
  "kernelspec": {
   "display_name": "Python 3.9.15 ('cs182_test')",
   "language": "python",
   "name": "python3"
  },
  "language_info": {
   "codemirror_mode": {
    "name": "ipython",
    "version": 3
   },
   "file_extension": ".py",
   "mimetype": "text/x-python",
   "name": "python",
   "nbconvert_exporter": "python",
   "pygments_lexer": "ipython3",
   "version": "3.9.15"
  },
  "orig_nbformat": 4,
  "vscode": {
   "interpreter": {
    "hash": "086d3b99f5034828e2982dde439c9c99e7528f87e45628a8fb48f7d73cd9a6a5"
   }
  }
 },
 "nbformat": 4,
 "nbformat_minor": 2
}
