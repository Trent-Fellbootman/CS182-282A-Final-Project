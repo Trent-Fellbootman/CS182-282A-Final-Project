{
 "cells": [
  {
   "cell_type": "code",
   "execution_count": 4,
   "metadata": {},
   "outputs": [],
   "source": [
    "from base import *"
   ]
  },
  {
   "cell_type": "code",
   "execution_count": 5,
   "metadata": {},
   "outputs": [
    {
     "name": "stdout",
     "output_type": "stream",
     "text": [
      "The autoreload extension is already loaded. To reload it, use:\n",
      "  %reload_ext autoreload\n"
     ]
    }
   ],
   "source": [
    "%load_ext autoreload\n",
    "%autoreload 2"
   ]
  },
  {
   "cell_type": "code",
   "execution_count": 6,
   "metadata": {},
   "outputs": [],
   "source": [
    "dataset = Dummy(10)"
   ]
  },
  {
   "cell_type": "code",
   "execution_count": 7,
   "metadata": {},
   "outputs": [
    {
     "data": {
      "text/plain": [
       "(6, (36, (216,)))"
      ]
     },
     "execution_count": 7,
     "metadata": {},
     "output_type": "execute_result"
    }
   ],
   "source": [
    "dataset[-4]"
   ]
  },
  {
   "cell_type": "code",
   "execution_count": 87,
   "metadata": {},
   "outputs": [],
   "source": [
    "dataloader = DataLoader(dataset, 5, auto_reshuffle=False)"
   ]
  },
  {
   "cell_type": "code",
   "execution_count": 101,
   "metadata": {},
   "outputs": [
    {
     "name": "stdout",
     "output_type": "stream",
     "text": [
      "(DeviceArray([4, 8, 2, 6, 5], dtype=int32), (DeviceArray([16, 64,  4, 36, 25], dtype=int32), (DeviceArray([ 64, 512,   8, 216, 125], dtype=int32),)))\n",
      "(DeviceArray([3, 0, 7, 1, 9], dtype=int32), (DeviceArray([ 9,  0, 49,  1, 81], dtype=int32), (DeviceArray([ 27,   0, 343,   1, 729], dtype=int32),)))\n"
     ]
    }
   ],
   "source": [
    "for tmp in dataloader:\n",
    "    print(tmp)"
   ]
  },
  {
   "cell_type": "code",
   "execution_count": 91,
   "metadata": {},
   "outputs": [],
   "source": [
    "dataloader.restart_iteration()"
   ]
  },
  {
   "cell_type": "code",
   "execution_count": 11,
   "metadata": {},
   "outputs": [
    {
     "data": {
      "text/plain": [
       "(DeviceArray([4, 8, 2], dtype=int32),\n",
       " (DeviceArray([16, 64,  4], dtype=int32),\n",
       "  (DeviceArray([ 64, 512,   8], dtype=int32),)))"
      ]
     },
     "execution_count": 11,
     "metadata": {},
     "output_type": "execute_result"
    }
   ],
   "source": [
    "next(dataloader)"
   ]
  },
  {
   "cell_type": "code",
   "execution_count": 12,
   "metadata": {},
   "outputs": [
    {
     "ename": "Exception",
     "evalue": "This dataloader is currently in iteration!",
     "output_type": "error",
     "traceback": [
      "\u001b[0;31m---------------------------------------------------------------------------\u001b[0m",
      "\u001b[0;31mException\u001b[0m                                 Traceback (most recent call last)",
      "\u001b[1;32m/home/trent/college-files-fa22/cs182/CS182-282A-Final-Project/library/datasets/test_base.ipynb Cell 9\u001b[0m in \u001b[0;36m<cell line: 1>\u001b[0;34m()\u001b[0m\n\u001b[0;32m----> <a href='vscode-notebook-cell:/home/trent/college-files-fa22/cs182/CS182-282A-Final-Project/library/datasets/test_base.ipynb#X11sZmlsZQ%3D%3D?line=0'>1</a>\u001b[0m dataloader\u001b[39m.\u001b[39;49mreshuffle()\n",
      "File \u001b[0;32m~/college-files-fa22/cs182/CS182-282A-Final-Project/library/datasets/base.py:120\u001b[0m, in \u001b[0;36mDataLoader.reshuffle\u001b[0;34m(self, key)\u001b[0m\n\u001b[1;32m    109\u001b[0m \u001b[39m\"\"\"Reshuffles and re-batches the data loader IN PLACE.\u001b[39;00m\n\u001b[1;32m    110\u001b[0m \u001b[39m\u001b[39;00m\n\u001b[1;32m    111\u001b[0m \u001b[39mBatches are regenerated.\u001b[39;00m\n\u001b[0;32m   (...)\u001b[0m\n\u001b[1;32m    116\u001b[0m \u001b[39m    key (random.KeyArray | None, optional): PRNG key to be used. If None, use the key in current state and update current state.\u001b[39;00m\n\u001b[1;32m    117\u001b[0m \u001b[39m\"\"\"\u001b[39;00m\n\u001b[1;32m    119\u001b[0m \u001b[39mif\u001b[39;00m \u001b[39mself\u001b[39m\u001b[39m.\u001b[39m__current_index \u001b[39m!=\u001b[39m \u001b[39m0\u001b[39m:\n\u001b[0;32m--> 120\u001b[0m     \u001b[39mraise\u001b[39;00m \u001b[39mException\u001b[39;00m(\u001b[39m\"\u001b[39m\u001b[39mThis dataloader is currently in iteration!\u001b[39m\u001b[39m\"\u001b[39m)\n\u001b[1;32m    122\u001b[0m \u001b[39mif\u001b[39;00m key \u001b[39mis\u001b[39;00m \u001b[39mNone\u001b[39;00m:\n\u001b[1;32m    123\u001b[0m     \u001b[39mself\u001b[39m\u001b[39m.\u001b[39m__key, key \u001b[39m=\u001b[39m random\u001b[39m.\u001b[39msplit(\u001b[39mself\u001b[39m\u001b[39m.\u001b[39m__key)\n",
      "\u001b[0;31mException\u001b[0m: This dataloader is currently in iteration!"
     ]
    }
   ],
   "source": [
    "dataloader.reshuffle()"
   ]
  }
 ],
 "metadata": {
  "kernelspec": {
   "display_name": "Python 3.10.6 ('python3.10')",
   "language": "python",
   "name": "python3"
  },
  "language_info": {
   "codemirror_mode": {
    "name": "ipython",
    "version": 3
   },
   "file_extension": ".py",
   "mimetype": "text/x-python",
   "name": "python",
   "nbconvert_exporter": "python",
   "pygments_lexer": "ipython3",
   "version": "3.10.6"
  },
  "orig_nbformat": 4,
  "vscode": {
   "interpreter": {
    "hash": "4d5bbc90547c8ba0b4e6ac5d6ff9c75838f9b373a6adaf23b1514500c20e42f8"
   }
  }
 },
 "nbformat": 4,
 "nbformat_minor": 2
}
