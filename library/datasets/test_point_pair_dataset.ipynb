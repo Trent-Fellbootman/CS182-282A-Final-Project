{
 "cells": [
  {
   "cell_type": "code",
   "execution_count": 1,
   "metadata": {},
   "outputs": [],
   "source": [
    "from utils import PolynomialTransformation\n",
    "from jax import numpy as jnp, random"
   ]
  },
  {
   "cell_type": "code",
   "execution_count": 2,
   "metadata": {},
   "outputs": [],
   "source": [
    "%load_ext autoreload\n",
    "%autoreload 2"
   ]
  },
  {
   "cell_type": "code",
   "execution_count": 3,
   "metadata": {},
   "outputs": [],
   "source": [
    "sampler_A = PolynomialTransformation.generate_random(2, 4, 2, 3, random.PRNGKey(0))\n",
    "sampler_B = PolynomialTransformation.generate_random(2, 5, 2, 3, random.PRNGKey(1))"
   ]
  },
  {
   "cell_type": "code",
   "execution_count": 4,
   "metadata": {},
   "outputs": [
    {
     "name": "stdout",
     "output_type": "stream",
     "text": [
      "(x_0, x_1) ->\n",
      "\t-2.67e-01 + 1.32e+00 x_0^1 + 2.55e+00 x_1^1 + 1.22e+00 x_0^2 + -2.07e+00 x_0^1 x_1^1 + -2.94e+00 x_1^2\n",
      "\t2.90e+00 + -1.08e+00 x_0^1 + 5.82e-01 x_1^1 + -8.53e-01 x_0^2 + 2.51e+00 x_0^1 x_1^1 + 9.59e-01 x_1^2\n",
      "\t-9.89e-02 + 2.83e+00 x_0^1 + 2.03e+00 x_1^1 + -1.07e+00 x_0^2 + -2.51e+00 x_0^1 x_1^1 + 2.06e+00 x_1^2\n",
      "\t1.82e+00 + 8.48e-01 x_0^1 + -1.91e+00 x_1^1 + 3.74e-01 x_0^2 + -8.29e-01 x_0^1 x_1^1 + -6.25e-01 x_1^2\n"
     ]
    }
   ],
   "source": [
    "print(str(sampler_A))"
   ]
  },
  {
   "cell_type": "code",
   "execution_count": 5,
   "metadata": {},
   "outputs": [
    {
     "name": "stdout",
     "output_type": "stream",
     "text": [
      "(x_0, x_1) ->\n",
      "\t1.95e+00 + 1.14e+00 x_0^1 + 1.86e+00 x_1^1 + -6.63e-01 x_0^2 + 9.99e-01 x_0^1 x_1^1 + -2.29e+00 x_1^2\n",
      "\t-2.02e+00 + -7.40e-01 x_0^1 + 6.52e-01 x_1^1 + -8.45e-01 x_0^2 + 1.11e+00 x_0^1 x_1^1 + -3.80e-01 x_1^2\n",
      "\t1.43e+00 + -2.12e+00 x_0^1 + 9.68e-01 x_1^1 + 2.10e+00 x_0^2 + 2.77e+00 x_0^1 x_1^1 + 2.79e+00 x_1^2\n",
      "\t2.73e+00 + -1.01e+00 x_0^1 + -2.21e+00 x_1^1 + 2.42e+00 x_0^2 + 6.73e-02 x_0^1 x_1^1 + 2.48e+00 x_1^2\n",
      "\t2.52e+00 + -2.64e+00 x_0^1 + -1.40e+00 x_1^1 + 1.72e+00 x_0^2 + 2.57e+00 x_0^1 x_1^1 + -8.75e-02 x_1^2\n"
     ]
    }
   ],
   "source": [
    "print(str(sampler_B))"
   ]
  },
  {
   "cell_type": "code",
   "execution_count": 6,
   "metadata": {},
   "outputs": [],
   "source": [
    "inputs = random.normal(random.PRNGKey(0), (100, 2))"
   ]
  },
  {
   "cell_type": "code",
   "execution_count": 7,
   "metadata": {},
   "outputs": [
    {
     "ename": "NameError",
     "evalue": "name 'PointPairDataset' is not defined",
     "output_type": "error",
     "traceback": [
      "\u001b[0;31m---------------------------------------------------------------------------\u001b[0m",
      "\u001b[0;31mNameError\u001b[0m                                 Traceback (most recent call last)",
      "\u001b[1;32m/home/trent/college-files-fa22/cs182/CS182-282A-Final-Project/library/datasets/test_point_pair_dataset.ipynb Cell 7\u001b[0m in \u001b[0;36m<cell line: 1>\u001b[0;34m()\u001b[0m\n\u001b[0;32m----> <a href='vscode-notebook-cell:/home/trent/college-files-fa22/cs182/CS182-282A-Final-Project/library/datasets/test_point_pair_dataset.ipynb#W6sZmlsZQ%3D%3D?line=0'>1</a>\u001b[0m dataset \u001b[39m=\u001b[39m PointPairDataset(inputs, sampler_A, sampler_B, noise_scale\u001b[39m=\u001b[39m\u001b[39m0.1\u001b[39m)\n",
      "\u001b[0;31mNameError\u001b[0m: name 'PointPairDataset' is not defined"
     ]
    }
   ],
   "source": [
    "dataset = PointPairDataset(inputs, sampler_A, sampler_B, noise_scale=0.1)"
   ]
  },
  {
   "cell_type": "code",
   "execution_count": null,
   "metadata": {},
   "outputs": [
    {
     "data": {
      "text/plain": [
       "100"
      ]
     },
     "execution_count": 39,
     "metadata": {},
     "output_type": "execute_result"
    }
   ],
   "source": [
    "len(dataset)"
   ]
  },
  {
   "cell_type": "code",
   "execution_count": null,
   "metadata": {},
   "outputs": [
    {
     "data": {
      "text/plain": [
       "(DeviceArray([ 8.900188 , -4.4172945, -3.7688696,  1.6440192], dtype=float32),\n",
       " DeviceArray([-8.214179, -8.080262, 17.12061 , 20.871294, 12.443775], dtype=float32))"
      ]
     },
     "execution_count": 40,
     "metadata": {},
     "output_type": "execute_result"
    }
   ],
   "source": [
    "dataset[0]"
   ]
  },
  {
   "cell_type": "code",
   "execution_count": null,
   "metadata": {},
   "outputs": [],
   "source": []
  }
 ],
 "metadata": {
  "kernelspec": {
   "display_name": "Python 3.10.6 ('python3.10')",
   "language": "python",
   "name": "python3"
  },
  "language_info": {
   "codemirror_mode": {
    "name": "ipython",
    "version": 3
   },
   "file_extension": ".py",
   "mimetype": "text/x-python",
   "name": "python",
   "nbconvert_exporter": "python",
   "pygments_lexer": "ipython3",
   "version": "3.10.6"
  },
  "orig_nbformat": 4,
  "vscode": {
   "interpreter": {
    "hash": "4d5bbc90547c8ba0b4e6ac5d6ff9c75838f9b373a6adaf23b1514500c20e42f8"
   }
  }
 },
 "nbformat": 4,
 "nbformat_minor": 2
}
