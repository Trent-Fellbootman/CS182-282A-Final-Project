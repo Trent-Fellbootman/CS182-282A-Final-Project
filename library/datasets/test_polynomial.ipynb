{
 "cells": [
  {
   "cell_type": "code",
   "execution_count": 90,
   "metadata": {},
   "outputs": [],
   "source": [
    "from utils import Polynomial\n",
    "from jax import numpy as jnp"
   ]
  },
  {
   "cell_type": "code",
   "execution_count": 91,
   "metadata": {},
   "outputs": [
    {
     "name": "stdout",
     "output_type": "stream",
     "text": [
      "The autoreload extension is already loaded. To reload it, use:\n",
      "  %reload_ext autoreload\n"
     ]
    }
   ],
   "source": [
    "%load_ext autoreload\n",
    "%autoreload 2"
   ]
  },
  {
   "cell_type": "code",
   "execution_count": 92,
   "metadata": {},
   "outputs": [],
   "source": [
    "poly = Polynomial.generateRandomPolynomial(3, 2, 10)"
   ]
  },
  {
   "cell_type": "code",
   "execution_count": 93,
   "metadata": {},
   "outputs": [
    {
     "data": {
      "text/plain": [
       "'-2.90e+00 + 2.08e+00 x_0^1 + -1.45e+00 x_1^1 + -5.39e+00 x_2^1 + -3.40e+00 x_0^2 + -1.21e+00 x_0^1 x_1^1 + -4.98e+00 x_0^1 x_2^1 + -4.45e+00 x_1^2 + 5.36e+00 x_1^1 x_2^1 + 4.29e+00 x_2^2'"
      ]
     },
     "execution_count": 93,
     "metadata": {},
     "output_type": "execute_result"
    }
   ],
   "source": [
    "str(poly)"
   ]
  },
  {
   "cell_type": "code",
   "execution_count": 94,
   "metadata": {},
   "outputs": [
    {
     "data": {
      "text/plain": [
       "10"
      ]
     },
     "execution_count": 94,
     "metadata": {},
     "output_type": "execute_result"
    }
   ],
   "source": [
    "poly.term_count"
   ]
  },
  {
   "cell_type": "code",
   "execution_count": 95,
   "metadata": {},
   "outputs": [
    {
     "data": {
      "text/plain": [
       "DeviceArray([[12.338066]], dtype=float32)"
      ]
     },
     "execution_count": 95,
     "metadata": {},
     "output_type": "execute_result"
    }
   ],
   "source": [
    "poly(jnp.array([[[1, 2, 3]]]))"
   ]
  },
  {
   "cell_type": "markdown",
   "metadata": {},
   "source": [
    "$$\n",
    "7.08e-01 + -6.68e-01 x_0^1 + -4.48e-01 x_1^1 + -2.54e-02 x_2^1 + 9.84e-01 x_0^2 + -9.40e-01 x_0^1 x_1^1 + -5.67e-01 x_0^1 x_2^1 + -2.46e-01 x_1^2 + 2.61e-01 x_1^1 x_2^1 + 9.23e-01 x_2^2 + -6.96e-01 x_0^3 + 8.42e-01 x_0^2 x_1^1 + -3.89e-01 x_0^2 x_2^1 + -4.01e-01 x_0^1 x_1^2 + 3.85e-01 x_0^1 x_1^1 x_2^1 + 7.09e-01 x_0^1 x_2^2 + -6.97e-02 x_1^3 + 5.74e-01 x_1^2 x_2^1 + 9.92e-01 x_1^1 x_2^2 + -4.40e-01 x_2^3\n",
    "$$"
   ]
  },
  {
   "cell_type": "code",
   "execution_count": 96,
   "metadata": {},
   "outputs": [],
   "source": [
    "from jax import random"
   ]
  },
  {
   "cell_type": "code",
   "execution_count": 97,
   "metadata": {},
   "outputs": [],
   "source": [
    "x = random.normal(random.PRNGKey(0), (5, 10, 3))\n",
    "values = poly(x)"
   ]
  },
  {
   "cell_type": "code",
   "execution_count": 98,
   "metadata": {},
   "outputs": [
    {
     "name": "stdout",
     "output_type": "stream",
     "text": [
      "(5, 10, 3) (5, 10)\n"
     ]
    }
   ],
   "source": [
    "print(x.shape, values.shape)"
   ]
  },
  {
   "cell_type": "code",
   "execution_count": 99,
   "metadata": {},
   "outputs": [
    {
     "name": "stdout",
     "output_type": "stream",
     "text": [
      "[[-1.9725405e+01 -2.7738256e+01 -1.3200917e+01  4.2455606e+00\n",
      "  -7.4807954e+00 -1.3417841e+01  7.4162006e-01 -7.8976369e+00\n",
      "  -2.6067711e+01 -1.9109102e+01]\n",
      " [-5.8259726e+00 -8.2546082e+00 -1.3243015e+01 -1.0756557e+01\n",
      "  -5.0889254e+00 -9.9265070e+00 -7.8498440e+00 -3.9509077e+00\n",
      "   2.5614189e+01 -8.5819073e+00]\n",
      " [-7.4725432e+00  4.7086735e+00  4.5081215e+00 -5.2350101e+00\n",
      "   1.3671425e+01 -3.6348927e+00 -2.0874210e+01 -1.4690580e+01\n",
      "  -1.9253904e+01 -4.5537071e+00]\n",
      " [-9.5037947e+00 -2.7918161e+01 -4.2684236e+00 -3.0630195e+00\n",
      "   7.7801341e-01 -3.8846130e+00 -6.4806237e+00 -2.3452213e+01\n",
      "  -1.3329683e+01  1.4099851e+01]\n",
      " [ 7.2192512e+00 -2.6533895e+01  1.3840844e+01 -6.3794394e+00\n",
      "  -1.3762156e+01 -1.4081256e+01  2.9566353e+01  2.7864666e+01\n",
      "   2.4826002e-01  2.6014328e-02]]\n"
     ]
    }
   ],
   "source": [
    "print(values)"
   ]
  }
 ],
 "metadata": {
  "kernelspec": {
   "display_name": "Python 3.10.6 ('python3.10')",
   "language": "python",
   "name": "python3"
  },
  "language_info": {
   "codemirror_mode": {
    "name": "ipython",
    "version": 3
   },
   "file_extension": ".py",
   "mimetype": "text/x-python",
   "name": "python",
   "nbconvert_exporter": "python",
   "pygments_lexer": "ipython3",
   "version": "3.10.6"
  },
  "orig_nbformat": 4,
  "vscode": {
   "interpreter": {
    "hash": "4d5bbc90547c8ba0b4e6ac5d6ff9c75838f9b373a6adaf23b1514500c20e42f8"
   }
  }
 },
 "nbformat": 4,
 "nbformat_minor": 2
}
