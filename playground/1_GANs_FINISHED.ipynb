{
  "cells": [
    {
      "cell_type": "markdown",
      "metadata": {
        "id": "swLjCtuiEZuv"
      },
      "source": [
        "[![Open In Colab](https://colab.research.google.com/assets/colab-badge.svg)](https://colab.research.google.com/github/lweitkamp/GANs-JAX/blob/main/1_GANs.ipynb)\n",
        "\n",
        "\n",
        "# Generative Adversarial Networks (GANs)\n",
        "\n",
        "This notebook is based primarily on two papers. The first is the <a href=\"https://papers.nips.cc/paper/2014/file/5ca3e9b122f61f8f06494c97b1afccf3-Paper.pdf\">original paper</a> on GANs (not counting Schmidhuber), the <a href=\"https://arxiv.org/abs/1511.06434\">second paper</a> outlines improvements for training GANs and investigates the features learned by the generator for downstream tasks.\n",
        "\n",
        "\n",
        "In the GAN setup, we want to implicity model a data distribution $p_{\\text{data}}(x)$. The generator (G) is in charge of modelling $p_\\text{data}$ through $p_g(x)$, and the discriminator (D) is in charge discerning data samples from the two distributions by a classification: 1 if the data is sampled from $p_{\\text{data}}$ and 0 otherwise.\n",
        "\n",
        "\n",
        "Formally this can be captured in a value function $V(D, G)$, where the generator and discriminator play the following minimax game:\n",
        "\n",
        "$$\n",
        "\\large{\n",
        "\\underset{G}{\\min} \\underset{D}{\\max} V(D, G) = \\mathbb{E}_{x \\sim p_{\\text{data}}(x)}[\\log D(x)] + \\mathbb{E}_{z \\sim p_z(z)}[\\log (1 - D(G(z)))]\n",
        "}\n",
        "$$\n",
        "\n",
        "\n",
        "GAN training is notoriously difficult, the following problems are typically prevalent:\n",
        "\n",
        "1. Mode Collapse: The generator learns a specific subset of the data distribution (a mode), and the discriminator learns to classify these as false. The generator loops to a new mode and the problem continues.\n",
        "2. <a href=\"https://arxiv.org/pdf/1701.04862.pdf\">Vanishing Gradients</a>: If the discriminator converges too quickly, the signal back to the generator can be significantly small such that training is impossible for the generator. \n",
        "3. Random issues with convergence; both papers outline ways to combat these, for example label smoothing, batch-norm, tweaking the loss function for the generator, etc."
      ]
    },
    {
      "cell_type": "code",
      "execution_count": 1,
      "metadata": {
        "id": "8v7cpMg0kZvB"
      },
      "outputs": [],
      "source": [
        "%%capture\n",
        "!pip install --upgrade -q flax"
      ]
    },
    {
      "cell_type": "code",
      "execution_count": 2,
      "metadata": {
        "id": "YX7dtzLSkaFK"
      },
      "outputs": [],
      "source": [
        "# Run it on a TPU (if possible)!\n",
        "import jax.tools.colab_tpu\n",
        "try:\n",
        "  jax.tools.colab_tpu.setup_tpu()\n",
        "except:\n",
        "  pass"
      ]
    },
    {
      "cell_type": "code",
      "execution_count": 3,
      "metadata": {
        "colab": {
          "base_uri": "https://localhost:8080/"
        },
        "id": "aepk2EGP0mnU",
        "outputId": "774a3f1a-0a70-4c7b-ad40-621db2a17710"
      },
      "outputs": [],
      "source": [
        "import os\n",
        "from functools import partial\n",
        "\n",
        "import jax\n",
        "import jax.numpy as jnp\n",
        "os.environ['XLA_PYTHON_CLIENT_MEM_FRACTION']='.1'\n",
        "\n",
        "from typing import Any, Tuple\n",
        "\n",
        "\n",
        "PRNGKey = jnp.ndarray\n",
        "\n",
        "\n",
        "num_devices = jax.device_count()\n",
        "\n",
        "args = {\n",
        "    'z_dim': 64,\n",
        "    'seed': 41,\n",
        "}\n",
        "\n",
        "# Set the parallel batch size.\n",
        "args['batch_size'] = num_devices * 256 if num_devices > 1 else 256\n",
        "args['epochs'] = 100\n",
        "args['batch_size_p'] = args['batch_size'] //  num_devices\n",
        "\n",
        "args['true_label'] = jnp.ones((args['batch_size_p'], 1), dtype=jnp.int32)\n",
        "args['false_label'] = jnp.zeros((args['batch_size_p'], 1), dtype=jnp.int32)\n",
        "\n",
        "os.makedirs(os.path.join(\"results\", \"1_GAN\"), exist_ok=True)"
      ]
    },
    {
      "cell_type": "markdown",
      "metadata": {
        "id": "CqR3kpHs6VFL"
      },
      "source": [
        "## Loading MNIST"
      ]
    },
    {
      "cell_type": "code",
      "execution_count": 4,
      "metadata": {
        "colab": {
          "base_uri": "https://localhost:8080/",
          "height": 85,
          "referenced_widgets": [
            "43ede6698aa64482aafb03ed59e5f43c",
            "6a8fb4a1d581411f8d23ece14d4e1959",
            "016e0969016349428b5293fd1dbc0d6f",
            "026dbfd7ab2544aeb16833af24d46b79",
            "b5294c1891274a4b861ba7a38f230722",
            "e2e0a3f171c742629dda1e887a264d63",
            "6c54a8779dee4c4fbc0a1a3fb477684f",
            "60bb3e83189843b2990958a48a4137ab",
            "cfb2a86fdc964eb18ecbb4d65a4ddbd0",
            "23fff0798a2f4e63b244c96889dd9cf3",
            "4ae7a325c5834d1ea70bca068cb9526d"
          ]
        },
        "id": "J2o5ppYWKtuI",
        "outputId": "fac07625-0aac-4e9e-e389-3b8decc67f34"
      },
      "outputs": [
        {
          "name": "stderr",
          "output_type": "stream",
          "text": [
            "2022-11-27 16:43:38.417614: E tensorflow/stream_executor/cuda/cuda_blas.cc:2981] Unable to register cuBLAS factory: Attempting to register factory for plugin cuBLAS when one has already been registered\n",
            "2022-11-27 16:43:38.783274: W tensorflow/stream_executor/platform/default/dso_loader.cc:64] Could not load dynamic library 'libnvinfer.so.7'; dlerror: libnvinfer.so.7: cannot open shared object file: No such file or directory; LD_LIBRARY_PATH: /home/trent\n",
            "2022-11-27 16:43:38.783305: W tensorflow/stream_executor/platform/default/dso_loader.cc:64] Could not load dynamic library 'libnvinfer_plugin.so.7'; dlerror: libnvinfer_plugin.so.7: cannot open shared object file: No such file or directory; LD_LIBRARY_PATH: /home/trent\n",
            "2022-11-27 16:43:38.783308: W tensorflow/compiler/tf2tensorrt/utils/py_utils.cc:38] TF-TRT Warning: Cannot dlopen some TensorRT libraries. If you would like to use Nvidia GPU with TensorRT, please make sure the missing libraries mentioned above are installed properly.\n"
          ]
        }
      ],
      "source": [
        "import tensorflow_datasets as tfds\n",
        "import tensorflow as tf\n",
        "\n",
        "\n",
        "def set_range(batch):\n",
        "  batch = tf.image.convert_image_dtype(batch['image'], tf.float32)\n",
        "  batch = (batch - 0.5) / 0.5  # tanh range is -1, 1\n",
        "  return batch\n",
        " \n",
        "\n",
        "mnist_data = tfds.load(\"mnist\")['train']\n",
        "batches_in_epoch = len(mnist_data) // args['batch_size']\n",
        " \n",
        "data_gen = iter(tfds.as_numpy(\n",
        "      mnist_data\n",
        "        .map(set_range)\n",
        "        .cache()\n",
        "        .shuffle(len(mnist_data), seed=args['seed'])\n",
        "        .repeat()\n",
        "        .batch(args['batch_size'])\n",
        " ))"
      ]
    },
    {
      "cell_type": "markdown",
      "metadata": {
        "id": "60Z_0VtFtDiW"
      },
      "source": [
        "## Flax Linen Architecture"
      ]
    },
    {
      "cell_type": "code",
      "execution_count": 5,
      "metadata": {
        "id": "MkXyWqPY1jVN"
      },
      "outputs": [],
      "source": [
        "from jax.nn.initializers import normal as normal_init\n",
        "from flax.training import train_state\n",
        "from flax import linen as nn\n",
        "\n",
        "\n",
        "class TrainState(train_state.TrainState):\n",
        "  batch_stats: Any\n",
        "\n",
        "\n",
        "class Generator(nn.Module):\n",
        "  features: int = 64\n",
        "  dtype: type = jnp.float32\n",
        "\n",
        "  @nn.compact\n",
        "  def __call__(self, z: jnp.ndarray, train: bool = True):\n",
        "    conv_transpose = partial(nn.ConvTranspose, padding='VALID',\n",
        "                             kernel_init=normal_init(0.02), dtype=self.dtype)\n",
        "    batch_norm = partial(nn.BatchNorm, use_running_average=not train, axis=-1, \n",
        "                         scale_init=normal_init(0.02), dtype=self.dtype)\n",
        "\n",
        "    z = z.reshape((args['batch_size_p'], 1, 1, args['z_dim']))\n",
        "    x = conv_transpose(self.features*4, kernel_size=[3, 3], strides=[2, 2])(z)\n",
        "    x = batch_norm()(x)\n",
        "    x = nn.relu(x)\n",
        "    x = conv_transpose(self.features*4, kernel_size=[4, 4], strides=[1, 1])(x)\n",
        "    x = batch_norm()(x)\n",
        "    x = nn.relu(x)\n",
        "    x = conv_transpose(self.features*2, kernel_size=[3, 3], strides=[2, 2])(x)\n",
        "    x = batch_norm()(x)\n",
        "    x = nn.relu(x)\n",
        "    x = conv_transpose(1, [4, 4], [2, 2])(x)\n",
        "    x = jnp.tanh(x)\n",
        "    return x\n",
        "\n",
        "\n",
        "class Discriminator(nn.Module):\n",
        "  features: int = 64\n",
        "  dtype: Any = jnp.float32\n",
        "\n",
        "  @nn.compact\n",
        "  def __call__(self, x: jnp.ndarray, train: bool = True):\n",
        "    conv = partial(nn.Conv, kernel_size=[4, 4], strides=[2, 2], padding='VALID',\n",
        "                   kernel_init=normal_init(0.02), dtype=self.dtype)\n",
        "    batch_norm = partial(nn.BatchNorm, use_running_average=not train, axis=-1,\n",
        "                         scale_init=normal_init(0.02), dtype=self.dtype)\n",
        "        \n",
        "    x = conv(self.features)(x)\n",
        "    x = batch_norm()(x)\n",
        "    x = nn.leaky_relu(x, 0.2)\n",
        "    x = conv(self.features*2)(x)\n",
        "    x = batch_norm()(x)\n",
        "    x = nn.leaky_relu(x, 0.2)\n",
        "    x = conv(1)(x)\n",
        "    x = x.reshape((args['batch_size_p'], -1))\n",
        "    return x"
      ]
    },
    {
      "cell_type": "markdown",
      "metadata": {
        "id": "J-G1fBOFVXro"
      },
      "source": [
        "## GAN Loss Function"
      ]
    },
    {
      "cell_type": "code",
      "execution_count": 6,
      "metadata": {
        "id": "PQsr8qp7VWwS"
      },
      "outputs": [],
      "source": [
        "import optax\n",
        "\n",
        "\n",
        "@partial(jax.pmap, axis_name='num_devices')\n",
        "def generator_step(generator_state: TrainState,\n",
        "                   discriminator_state: TrainState,\n",
        "                   key: PRNGKey):\n",
        "  r\"\"\"The generator is updated by generating data and letting the discriminator\n",
        "  critique it. It's loss goes down if the discriminator wrongly predicts it to\n",
        "  to be real data.\"\"\"\n",
        "  input_noise = jax.random.normal(key, (args['batch_size_p'], args['z_dim']))\n",
        "\n",
        "  def loss_fn(params):\n",
        "    generated_data, mutables = generator_state.apply_fn(\n",
        "        {'params': params, 'batch_stats': generator_state.batch_stats},\n",
        "        input_noise, mutable=['batch_stats'])\n",
        "    \n",
        "    logits, _ = discriminator_state.apply_fn(\n",
        "        {'params': discriminator_state.params, \n",
        "         'batch_stats': discriminator_state.batch_stats},\n",
        "         generated_data, mutable=['batch_stats'])\n",
        "    \n",
        "    loss = -jnp.mean(jnp.log(nn.sigmoid(logits)))\n",
        "    return loss, mutables\n",
        "  \n",
        "  # Generate data with the Generator, critique it with the Discriminator.\n",
        "  grad_fn = jax.value_and_grad(loss_fn, has_aux=True)\n",
        "  (loss, mutables), grads = grad_fn(generator_state.params)\n",
        "\n",
        "  # Average across the devices.\n",
        "  grads = jax.lax.pmean(grads, axis_name='num_devices')\n",
        "  loss = jax.lax.pmean(loss, axis_name='num_devices')\n",
        "\n",
        "  # Update the Generator through gradient descent.\n",
        "  new_generator_state = generator_state.apply_gradients(\n",
        "      grads=grads, batch_stats=mutables['batch_stats'])\n",
        "  \n",
        "  return new_generator_state, loss\n",
        "\n",
        "\n",
        "@partial(jax.pmap, axis_name='num_devices')\n",
        "def discriminator_step(generator_state: TrainState,\n",
        "                       discriminator_state: TrainState,\n",
        "                       real_data: jnp.ndarray,\n",
        "                       key: PRNGKey):\n",
        "  r\"\"\"The discriminator is updated by critiquing both real and generated data,\n",
        "  It's loss goes down as it predicts correctly if images are real or generated.\n",
        "  \"\"\"\n",
        "  input_noise = jax.random.normal(key, (args['batch_size_p'], args['z_dim']))\n",
        "\n",
        "  generated_data, _ = generator_state.apply_fn(\n",
        "        {'params': generator_state.params, \n",
        "         'batch_stats': generator_state.batch_stats},\n",
        "         input_noise, mutable=['batch_stats'])\n",
        "  \n",
        "  def loss_fn(params):\n",
        "    logits_real, mutables = discriminator_state.apply_fn(\n",
        "        {'params': params, 'batch_stats': discriminator_state.batch_stats},\n",
        "        real_data, mutable=['batch_stats'])\n",
        "        \n",
        "    logits_generated, mutables = discriminator_state.apply_fn(\n",
        "        {'params': params, 'batch_stats': mutables['batch_stats']},\n",
        "        generated_data, mutable=['batch_stats'])\n",
        "    \n",
        "    real_loss = optax.sigmoid_binary_cross_entropy(\n",
        "        logits_real, args['true_label']).mean()\n",
        "    generated_loss = optax.sigmoid_binary_cross_entropy(\n",
        "        logits_generated, args['false_label']).mean()\n",
        "    \n",
        "    loss = (real_loss + generated_loss) / 2\n",
        "\n",
        "    return loss, mutables\n",
        "\n",
        "  # Critique real and generated data with the Discriminator.\n",
        "  grad_fn = jax.value_and_grad(loss_fn, has_aux=True)\n",
        "  (loss, mutables), grads = grad_fn(discriminator_state.params)\n",
        "\n",
        "  # Average cross the devices.\n",
        "  grads = jax.lax.pmean(grads, axis_name='num_devices')\n",
        "  loss = jax.lax.pmean(loss, axis_name='num_devices')\n",
        "\n",
        "  # Update the discriminator through gradient descent.\n",
        "  new_discriminator_state = discriminator_state.apply_gradients(\n",
        "      grads=grads, batch_stats=mutables['batch_stats'])\n",
        "  \n",
        "  return new_discriminator_state, loss"
      ]
    },
    {
      "cell_type": "markdown",
      "metadata": {
        "id": "_Tot1qjTdxey"
      },
      "source": [
        "## Helper Functions"
      ]
    },
    {
      "cell_type": "code",
      "execution_count": 7,
      "metadata": {
        "id": "5R2JwS5pGDSB"
      },
      "outputs": [],
      "source": [
        "@partial(jax.pmap, static_broadcasted_argnums=(1, 2))\n",
        "def create_state(rng, model_cls, input_shape): \n",
        "  r\"\"\"Create the training state given a model class. \"\"\" \n",
        "  model = model_cls()\n",
        "\n",
        "  tx = optax.adam(0.0002, b1=0.5, b2=0.999)\n",
        "  variables = model.init(rng, jnp.ones(input_shape))\n",
        "\n",
        "  state = TrainState.create(apply_fn=model.apply, tx=tx, \n",
        "      params=variables['params'], batch_stats=variables['batch_stats'])\n",
        "  \n",
        "  return state\n",
        "\n",
        "\n",
        "@jax.pmap\n",
        "def sample_from_generator(generator_state, input_noise):\n",
        "  \"\"\"Sample from the generator in evaluation mode.\"\"\"\n",
        "  generated_data = generator_state.apply_fn(\n",
        "      {'params': generator_state.params,\n",
        "       'batch_stats': generator_state.batch_stats},\n",
        "      input_noise, train=False, mutable=False)\n",
        "  return generated_data"
      ]
    },
    {
      "cell_type": "markdown",
      "metadata": {
        "id": "roDjHcUbUW1E"
      },
      "source": [
        "## Training"
      ]
    },
    {
      "cell_type": "code",
      "execution_count": 8,
      "metadata": {
        "id": "NHedewK2FQ7c"
      },
      "outputs": [],
      "source": [
        "from flax.training.common_utils import shard, shard_prng_key\n",
        "\n",
        "\n",
        "key = jax.random.PRNGKey(seed=args['seed'])\n",
        "key_generator, key_discriminator, key = jax.random.split(key, 3)\n",
        "key_generator = shard_prng_key(key_generator)\n",
        "key_discriminator = shard_prng_key(key_discriminator)\n",
        "\n",
        "discriminator_state = create_state(key_discriminator, Discriminator, \n",
        "    (args['batch_size_p'], *next(data_gen).shape[1:]))\n",
        "\n",
        "generator_state = create_state(key_generator, Generator, \n",
        "    (args['batch_size_p'], args['z_dim']))\n",
        "\n",
        "generator_input = jax.random.normal(key, (args['batch_size'], args['z_dim']))\n",
        "generator_input = shard(generator_input)"
      ]
    },
    {
      "cell_type": "code",
      "execution_count": 9,
      "metadata": {
        "colab": {
          "base_uri": "https://localhost:8080/",
          "height": 81,
          "referenced_widgets": [
            "74ceb748718140a49fc977289f97bd20",
            "bc5ef5e7cd05492d83f4841ed70c4fb7",
            "7e1e0f138d4540b1833c54778418e034",
            "248a8cbb30ed4c5ea06bab5372890efd",
            "8f2a1e4321b04ec4938f6dad0d465d5c",
            "37aa277c8a38413abfca87bf92c2673a",
            "399952b505474a35b668033505a3d407",
            "413ffc5ab1df4cc98fddd0e695e9487c",
            "4bc634e44e414c94a9223ba3d6dd209f",
            "4cd2365b07674afe8375da83c1b0f3c6",
            "f1de00f2a3bd460fbe9ccd15b5881b5e",
            "c1ff79cac3224ec79f92436dd71d5510",
            "00fc66c1aa874db1af9a11be16cedbc9",
            "a1c1b67febc44c4eadbd175b4452af15",
            "ae78a9ef25c34058a2f2214b80825da9",
            "8d5ad5b7d833439d84d55c6844583c1e",
            "1ae59aaab13245d9a051a9438d8f2a6d",
            "b0f125e02c7948df826438352fc45847",
            "73fe13e29a87495aa54a1f14e2f51ef1",
            "0706357c27a94cf79ddf0943cd25233c",
            "4600c63fade74b18b8907c65f785425d",
            "dfe0c0d165954cbbbaf18013dafb3f59"
          ]
        },
        "id": "NJDvGMMLCT5o",
        "outputId": "56383439-19c1-4deb-f8bd-9eace3fa0dd0"
      },
      "outputs": [
        {
          "data": {
            "application/vnd.jupyter.widget-view+json": {
              "model_id": "5c6f2442e3ba49299650bcbe0692f41d",
              "version_major": 2,
              "version_minor": 0
            },
            "text/plain": [
              "Epoch...:   0%|          | 0/100 [00:00<?, ?it/s]"
            ]
          },
          "metadata": {},
          "output_type": "display_data"
        },
        {
          "data": {
            "application/vnd.jupyter.widget-view+json": {
              "model_id": "8fc27d0e6c9149cc87a7fa081185f6a3",
              "version_major": 2,
              "version_minor": 0
            },
            "text/plain": [
              "Training...:   0%|          | 0/234 [00:00<?, ?it/s]"
            ]
          },
          "metadata": {},
          "output_type": "display_data"
        },
        {
          "name": "stdout",
          "output_type": "stream",
          "text": [
            "Epoch: 1  | Generator loss: 1.316 | Discriminator loss: 0.372\n"
          ]
        },
        {
          "data": {
            "application/vnd.jupyter.widget-view+json": {
              "model_id": "50f6d298d086425b9dc8970b499e5930",
              "version_major": 2,
              "version_minor": 0
            },
            "text/plain": [
              "Training...:   0%|          | 0/234 [00:00<?, ?it/s]"
            ]
          },
          "metadata": {},
          "output_type": "display_data"
        },
        {
          "name": "stdout",
          "output_type": "stream",
          "text": [
            "Epoch: 2  | Generator loss: 2.725 | Discriminator loss: 0.091\n"
          ]
        },
        {
          "data": {
            "application/vnd.jupyter.widget-view+json": {
              "model_id": "4061d410cd8f44fbb4c946ba833aa393",
              "version_major": 2,
              "version_minor": 0
            },
            "text/plain": [
              "Training...:   0%|          | 0/234 [00:00<?, ?it/s]"
            ]
          },
          "metadata": {},
          "output_type": "display_data"
        },
        {
          "name": "stdout",
          "output_type": "stream",
          "text": [
            "Epoch: 3  | Generator loss: 3.696 | Discriminator loss: 0.036\n"
          ]
        },
        {
          "data": {
            "application/vnd.jupyter.widget-view+json": {
              "model_id": "2872d9d207ac43e3aa42b3a163a0c66a",
              "version_major": 2,
              "version_minor": 0
            },
            "text/plain": [
              "Training...:   0%|          | 0/234 [00:00<?, ?it/s]"
            ]
          },
          "metadata": {},
          "output_type": "display_data"
        },
        {
          "name": "stdout",
          "output_type": "stream",
          "text": [
            "Epoch: 4  | Generator loss: 4.656 | Discriminator loss: 0.016\n"
          ]
        },
        {
          "data": {
            "application/vnd.jupyter.widget-view+json": {
              "model_id": "abbf2480c1164198bc3a70d03bcc18a4",
              "version_major": 2,
              "version_minor": 0
            },
            "text/plain": [
              "Training...:   0%|          | 0/234 [00:00<?, ?it/s]"
            ]
          },
          "metadata": {},
          "output_type": "display_data"
        },
        {
          "name": "stdout",
          "output_type": "stream",
          "text": [
            "Epoch: 5  | Generator loss: 1.945 | Discriminator loss: 0.252\n"
          ]
        },
        {
          "data": {
            "application/vnd.jupyter.widget-view+json": {
              "model_id": "6482d6d979e843cdb4757e246e02ec36",
              "version_major": 2,
              "version_minor": 0
            },
            "text/plain": [
              "Training...:   0%|          | 0/234 [00:00<?, ?it/s]"
            ]
          },
          "metadata": {},
          "output_type": "display_data"
        },
        {
          "name": "stdout",
          "output_type": "stream",
          "text": [
            "Epoch: 6  | Generator loss: 1.358 | Discriminator loss: 0.367\n"
          ]
        },
        {
          "data": {
            "application/vnd.jupyter.widget-view+json": {
              "model_id": "0b47665fd5d74b4f930009d597f189b8",
              "version_major": 2,
              "version_minor": 0
            },
            "text/plain": [
              "Training...:   0%|          | 0/234 [00:00<?, ?it/s]"
            ]
          },
          "metadata": {},
          "output_type": "display_data"
        },
        {
          "name": "stdout",
          "output_type": "stream",
          "text": [
            "Epoch: 7  | Generator loss: 1.150 | Discriminator loss: 0.318\n"
          ]
        },
        {
          "data": {
            "application/vnd.jupyter.widget-view+json": {
              "model_id": "0f8311cf692b4c65bbf9c2e63a51f091",
              "version_major": 2,
              "version_minor": 0
            },
            "text/plain": [
              "Training...:   0%|          | 0/234 [00:00<?, ?it/s]"
            ]
          },
          "metadata": {},
          "output_type": "display_data"
        },
        {
          "name": "stdout",
          "output_type": "stream",
          "text": [
            "Epoch: 8  | Generator loss: 1.359 | Discriminator loss: 0.452\n"
          ]
        },
        {
          "data": {
            "application/vnd.jupyter.widget-view+json": {
              "model_id": "faa149997961487ca4068a0eac016c82",
              "version_major": 2,
              "version_minor": 0
            },
            "text/plain": [
              "Training...:   0%|          | 0/234 [00:00<?, ?it/s]"
            ]
          },
          "metadata": {},
          "output_type": "display_data"
        },
        {
          "name": "stdout",
          "output_type": "stream",
          "text": [
            "Epoch: 9  | Generator loss: 1.090 | Discriminator loss: 0.593\n"
          ]
        },
        {
          "data": {
            "application/vnd.jupyter.widget-view+json": {
              "model_id": "5a13d6b4cd5f4dad99bfe7b6f5ac43ca",
              "version_major": 2,
              "version_minor": 0
            },
            "text/plain": [
              "Training...:   0%|          | 0/234 [00:00<?, ?it/s]"
            ]
          },
          "metadata": {},
          "output_type": "display_data"
        },
        {
          "name": "stdout",
          "output_type": "stream",
          "text": [
            "Epoch: 10 | Generator loss: 1.652 | Discriminator loss: 0.457\n"
          ]
        },
        {
          "data": {
            "application/vnd.jupyter.widget-view+json": {
              "model_id": "8a6025dc44ac49b7b04063b45fad9f04",
              "version_major": 2,
              "version_minor": 0
            },
            "text/plain": [
              "Training...:   0%|          | 0/234 [00:00<?, ?it/s]"
            ]
          },
          "metadata": {},
          "output_type": "display_data"
        },
        {
          "name": "stdout",
          "output_type": "stream",
          "text": [
            "Epoch: 11 | Generator loss: 0.850 | Discriminator loss: 0.496\n"
          ]
        },
        {
          "data": {
            "application/vnd.jupyter.widget-view+json": {
              "model_id": "81caaf2857aa47e3834a6fe652ef623b",
              "version_major": 2,
              "version_minor": 0
            },
            "text/plain": [
              "Training...:   0%|          | 0/234 [00:00<?, ?it/s]"
            ]
          },
          "metadata": {},
          "output_type": "display_data"
        },
        {
          "name": "stdout",
          "output_type": "stream",
          "text": [
            "Epoch: 12 | Generator loss: 0.836 | Discriminator loss: 0.524\n"
          ]
        },
        {
          "data": {
            "application/vnd.jupyter.widget-view+json": {
              "model_id": "21587f58940f42cab25b16240ff35e46",
              "version_major": 2,
              "version_minor": 0
            },
            "text/plain": [
              "Training...:   0%|          | 0/234 [00:00<?, ?it/s]"
            ]
          },
          "metadata": {},
          "output_type": "display_data"
        },
        {
          "name": "stdout",
          "output_type": "stream",
          "text": [
            "Epoch: 13 | Generator loss: 0.756 | Discriminator loss: 0.532\n"
          ]
        },
        {
          "data": {
            "application/vnd.jupyter.widget-view+json": {
              "model_id": "168947bd63bc47aca7c1b8925e5e4f6e",
              "version_major": 2,
              "version_minor": 0
            },
            "text/plain": [
              "Training...:   0%|          | 0/234 [00:00<?, ?it/s]"
            ]
          },
          "metadata": {},
          "output_type": "display_data"
        },
        {
          "name": "stdout",
          "output_type": "stream",
          "text": [
            "Epoch: 14 | Generator loss: 1.028 | Discriminator loss: 0.555\n"
          ]
        },
        {
          "data": {
            "application/vnd.jupyter.widget-view+json": {
              "model_id": "2fca86bf3b894692a13b30047e53a90a",
              "version_major": 2,
              "version_minor": 0
            },
            "text/plain": [
              "Training...:   0%|          | 0/234 [00:00<?, ?it/s]"
            ]
          },
          "metadata": {},
          "output_type": "display_data"
        },
        {
          "name": "stdout",
          "output_type": "stream",
          "text": [
            "Epoch: 15 | Generator loss: 0.584 | Discriminator loss: 0.625\n"
          ]
        },
        {
          "data": {
            "application/vnd.jupyter.widget-view+json": {
              "model_id": "101994b49d944de38f5a144e32b757c4",
              "version_major": 2,
              "version_minor": 0
            },
            "text/plain": [
              "Training...:   0%|          | 0/234 [00:00<?, ?it/s]"
            ]
          },
          "metadata": {},
          "output_type": "display_data"
        },
        {
          "name": "stdout",
          "output_type": "stream",
          "text": [
            "Epoch: 16 | Generator loss: 0.547 | Discriminator loss: 0.613\n"
          ]
        },
        {
          "data": {
            "application/vnd.jupyter.widget-view+json": {
              "model_id": "667d50d5b14b452fb675e50a99cda08c",
              "version_major": 2,
              "version_minor": 0
            },
            "text/plain": [
              "Training...:   0%|          | 0/234 [00:00<?, ?it/s]"
            ]
          },
          "metadata": {},
          "output_type": "display_data"
        },
        {
          "name": "stdout",
          "output_type": "stream",
          "text": [
            "Epoch: 17 | Generator loss: 0.729 | Discriminator loss: 0.547\n"
          ]
        },
        {
          "data": {
            "application/vnd.jupyter.widget-view+json": {
              "model_id": "0465d7d27f974aae8e9781d1a0ffeed3",
              "version_major": 2,
              "version_minor": 0
            },
            "text/plain": [
              "Training...:   0%|          | 0/234 [00:00<?, ?it/s]"
            ]
          },
          "metadata": {},
          "output_type": "display_data"
        },
        {
          "name": "stdout",
          "output_type": "stream",
          "text": [
            "Epoch: 18 | Generator loss: 0.963 | Discriminator loss: 0.566\n"
          ]
        },
        {
          "data": {
            "application/vnd.jupyter.widget-view+json": {
              "model_id": "f7861fee37b64cd8aaa3039932867b9c",
              "version_major": 2,
              "version_minor": 0
            },
            "text/plain": [
              "Training...:   0%|          | 0/234 [00:00<?, ?it/s]"
            ]
          },
          "metadata": {},
          "output_type": "display_data"
        },
        {
          "name": "stdout",
          "output_type": "stream",
          "text": [
            "Epoch: 19 | Generator loss: 0.932 | Discriminator loss: 0.580\n"
          ]
        },
        {
          "data": {
            "application/vnd.jupyter.widget-view+json": {
              "model_id": "dfa191d9daba4e94b88b8e69cb7c8581",
              "version_major": 2,
              "version_minor": 0
            },
            "text/plain": [
              "Training...:   0%|          | 0/234 [00:00<?, ?it/s]"
            ]
          },
          "metadata": {},
          "output_type": "display_data"
        },
        {
          "name": "stdout",
          "output_type": "stream",
          "text": [
            "Epoch: 20 | Generator loss: 1.365 | Discriminator loss: 0.551\n"
          ]
        },
        {
          "data": {
            "application/vnd.jupyter.widget-view+json": {
              "model_id": "b5deb10b3d0849ee8ac92caaadbfdfef",
              "version_major": 2,
              "version_minor": 0
            },
            "text/plain": [
              "Training...:   0%|          | 0/234 [00:00<?, ?it/s]"
            ]
          },
          "metadata": {},
          "output_type": "display_data"
        },
        {
          "name": "stdout",
          "output_type": "stream",
          "text": [
            "Epoch: 21 | Generator loss: 1.073 | Discriminator loss: 0.551\n"
          ]
        },
        {
          "data": {
            "application/vnd.jupyter.widget-view+json": {
              "model_id": "33b19eaad0314785b4c3c3d77f765fa9",
              "version_major": 2,
              "version_minor": 0
            },
            "text/plain": [
              "Training...:   0%|          | 0/234 [00:00<?, ?it/s]"
            ]
          },
          "metadata": {},
          "output_type": "display_data"
        },
        {
          "name": "stdout",
          "output_type": "stream",
          "text": [
            "Epoch: 22 | Generator loss: 0.914 | Discriminator loss: 0.572\n"
          ]
        },
        {
          "data": {
            "application/vnd.jupyter.widget-view+json": {
              "model_id": "98fe82b064874d32a6ade79ab8b20268",
              "version_major": 2,
              "version_minor": 0
            },
            "text/plain": [
              "Training...:   0%|          | 0/234 [00:00<?, ?it/s]"
            ]
          },
          "metadata": {},
          "output_type": "display_data"
        },
        {
          "name": "stdout",
          "output_type": "stream",
          "text": [
            "Epoch: 23 | Generator loss: 0.964 | Discriminator loss: 0.586\n"
          ]
        },
        {
          "data": {
            "application/vnd.jupyter.widget-view+json": {
              "model_id": "c5f1be6a3c0545c584a7c7bd7dac6655",
              "version_major": 2,
              "version_minor": 0
            },
            "text/plain": [
              "Training...:   0%|          | 0/234 [00:00<?, ?it/s]"
            ]
          },
          "metadata": {},
          "output_type": "display_data"
        },
        {
          "name": "stdout",
          "output_type": "stream",
          "text": [
            "Epoch: 24 | Generator loss: 0.993 | Discriminator loss: 0.564\n"
          ]
        },
        {
          "data": {
            "application/vnd.jupyter.widget-view+json": {
              "model_id": "34d161b60b4041ec8691d3e5f2bbc9a3",
              "version_major": 2,
              "version_minor": 0
            },
            "text/plain": [
              "Training...:   0%|          | 0/234 [00:00<?, ?it/s]"
            ]
          },
          "metadata": {},
          "output_type": "display_data"
        },
        {
          "name": "stdout",
          "output_type": "stream",
          "text": [
            "Epoch: 25 | Generator loss: 0.916 | Discriminator loss: 0.559\n"
          ]
        },
        {
          "data": {
            "application/vnd.jupyter.widget-view+json": {
              "model_id": "db201e52d40b4add8b0e3b02774ffd7a",
              "version_major": 2,
              "version_minor": 0
            },
            "text/plain": [
              "Training...:   0%|          | 0/234 [00:00<?, ?it/s]"
            ]
          },
          "metadata": {},
          "output_type": "display_data"
        },
        {
          "name": "stdout",
          "output_type": "stream",
          "text": [
            "Epoch: 26 | Generator loss: 1.013 | Discriminator loss: 0.572\n"
          ]
        },
        {
          "data": {
            "application/vnd.jupyter.widget-view+json": {
              "model_id": "526da958ecbe433881f06df3979205c7",
              "version_major": 2,
              "version_minor": 0
            },
            "text/plain": [
              "Training...:   0%|          | 0/234 [00:00<?, ?it/s]"
            ]
          },
          "metadata": {},
          "output_type": "display_data"
        },
        {
          "name": "stdout",
          "output_type": "stream",
          "text": [
            "Epoch: 27 | Generator loss: 1.019 | Discriminator loss: 0.587\n"
          ]
        },
        {
          "data": {
            "application/vnd.jupyter.widget-view+json": {
              "model_id": "55f290697efe4bbb9750e85f0950d0da",
              "version_major": 2,
              "version_minor": 0
            },
            "text/plain": [
              "Training...:   0%|          | 0/234 [00:00<?, ?it/s]"
            ]
          },
          "metadata": {},
          "output_type": "display_data"
        },
        {
          "name": "stdout",
          "output_type": "stream",
          "text": [
            "Epoch: 28 | Generator loss: 0.952 | Discriminator loss: 0.569\n"
          ]
        },
        {
          "data": {
            "application/vnd.jupyter.widget-view+json": {
              "model_id": "6733ed0d45b547a9af535037aac2a17f",
              "version_major": 2,
              "version_minor": 0
            },
            "text/plain": [
              "Training...:   0%|          | 0/234 [00:00<?, ?it/s]"
            ]
          },
          "metadata": {},
          "output_type": "display_data"
        },
        {
          "name": "stdout",
          "output_type": "stream",
          "text": [
            "Epoch: 29 | Generator loss: 0.930 | Discriminator loss: 0.656\n"
          ]
        },
        {
          "data": {
            "application/vnd.jupyter.widget-view+json": {
              "model_id": "1588bbecd95c47a897629447a1642563",
              "version_major": 2,
              "version_minor": 0
            },
            "text/plain": [
              "Training...:   0%|          | 0/234 [00:00<?, ?it/s]"
            ]
          },
          "metadata": {},
          "output_type": "display_data"
        },
        {
          "name": "stdout",
          "output_type": "stream",
          "text": [
            "Epoch: 30 | Generator loss: 0.898 | Discriminator loss: 0.596\n"
          ]
        },
        {
          "data": {
            "application/vnd.jupyter.widget-view+json": {
              "model_id": "84d1f1786c6846caaf1125a1f9e3f754",
              "version_major": 2,
              "version_minor": 0
            },
            "text/plain": [
              "Training...:   0%|          | 0/234 [00:00<?, ?it/s]"
            ]
          },
          "metadata": {},
          "output_type": "display_data"
        },
        {
          "name": "stdout",
          "output_type": "stream",
          "text": [
            "Epoch: 31 | Generator loss: 1.038 | Discriminator loss: 0.586\n"
          ]
        },
        {
          "data": {
            "application/vnd.jupyter.widget-view+json": {
              "model_id": "5cefd96749454f998effb826c51f3577",
              "version_major": 2,
              "version_minor": 0
            },
            "text/plain": [
              "Training...:   0%|          | 0/234 [00:00<?, ?it/s]"
            ]
          },
          "metadata": {},
          "output_type": "display_data"
        },
        {
          "name": "stdout",
          "output_type": "stream",
          "text": [
            "Epoch: 32 | Generator loss: 1.129 | Discriminator loss: 0.601\n"
          ]
        },
        {
          "data": {
            "application/vnd.jupyter.widget-view+json": {
              "model_id": "e72488a824f34675962f2970156a886c",
              "version_major": 2,
              "version_minor": 0
            },
            "text/plain": [
              "Training...:   0%|          | 0/234 [00:00<?, ?it/s]"
            ]
          },
          "metadata": {},
          "output_type": "display_data"
        },
        {
          "name": "stdout",
          "output_type": "stream",
          "text": [
            "Epoch: 33 | Generator loss: 1.010 | Discriminator loss: 0.628\n"
          ]
        },
        {
          "data": {
            "application/vnd.jupyter.widget-view+json": {
              "model_id": "04e1b61b75c3496985ba96ff094d3e96",
              "version_major": 2,
              "version_minor": 0
            },
            "text/plain": [
              "Training...:   0%|          | 0/234 [00:00<?, ?it/s]"
            ]
          },
          "metadata": {},
          "output_type": "display_data"
        },
        {
          "name": "stdout",
          "output_type": "stream",
          "text": [
            "Epoch: 34 | Generator loss: 1.034 | Discriminator loss: 0.593\n"
          ]
        },
        {
          "data": {
            "application/vnd.jupyter.widget-view+json": {
              "model_id": "13368c7f19c943058060e0bad4e2b9c1",
              "version_major": 2,
              "version_minor": 0
            },
            "text/plain": [
              "Training...:   0%|          | 0/234 [00:00<?, ?it/s]"
            ]
          },
          "metadata": {},
          "output_type": "display_data"
        },
        {
          "name": "stdout",
          "output_type": "stream",
          "text": [
            "Epoch: 35 | Generator loss: 0.882 | Discriminator loss: 0.579\n"
          ]
        },
        {
          "data": {
            "application/vnd.jupyter.widget-view+json": {
              "model_id": "0ec7f4b4e9cc454faf9cc6bf263782a1",
              "version_major": 2,
              "version_minor": 0
            },
            "text/plain": [
              "Training...:   0%|          | 0/234 [00:00<?, ?it/s]"
            ]
          },
          "metadata": {},
          "output_type": "display_data"
        },
        {
          "name": "stdout",
          "output_type": "stream",
          "text": [
            "Epoch: 36 | Generator loss: 0.909 | Discriminator loss: 0.734\n"
          ]
        },
        {
          "data": {
            "application/vnd.jupyter.widget-view+json": {
              "model_id": "b16b67038d6946bd84f19026a7855dc7",
              "version_major": 2,
              "version_minor": 0
            },
            "text/plain": [
              "Training...:   0%|          | 0/234 [00:00<?, ?it/s]"
            ]
          },
          "metadata": {},
          "output_type": "display_data"
        },
        {
          "name": "stdout",
          "output_type": "stream",
          "text": [
            "Epoch: 37 | Generator loss: 1.068 | Discriminator loss: 0.619\n"
          ]
        },
        {
          "data": {
            "application/vnd.jupyter.widget-view+json": {
              "model_id": "88a9092912ae4f0fb3b10e0678c48c03",
              "version_major": 2,
              "version_minor": 0
            },
            "text/plain": [
              "Training...:   0%|          | 0/234 [00:00<?, ?it/s]"
            ]
          },
          "metadata": {},
          "output_type": "display_data"
        },
        {
          "name": "stdout",
          "output_type": "stream",
          "text": [
            "Epoch: 38 | Generator loss: 0.793 | Discriminator loss: 0.596\n"
          ]
        },
        {
          "data": {
            "application/vnd.jupyter.widget-view+json": {
              "model_id": "b533c72fb0454ce598c51330ab365134",
              "version_major": 2,
              "version_minor": 0
            },
            "text/plain": [
              "Training...:   0%|          | 0/234 [00:00<?, ?it/s]"
            ]
          },
          "metadata": {},
          "output_type": "display_data"
        },
        {
          "name": "stdout",
          "output_type": "stream",
          "text": [
            "Epoch: 39 | Generator loss: 0.929 | Discriminator loss: 0.596\n"
          ]
        },
        {
          "data": {
            "application/vnd.jupyter.widget-view+json": {
              "model_id": "d9a2745c88aa4e9bbd665cb09f2a3789",
              "version_major": 2,
              "version_minor": 0
            },
            "text/plain": [
              "Training...:   0%|          | 0/234 [00:00<?, ?it/s]"
            ]
          },
          "metadata": {},
          "output_type": "display_data"
        },
        {
          "name": "stdout",
          "output_type": "stream",
          "text": [
            "Epoch: 40 | Generator loss: 0.959 | Discriminator loss: 0.585\n"
          ]
        },
        {
          "data": {
            "application/vnd.jupyter.widget-view+json": {
              "model_id": "34e8561421854f99880e397304e018eb",
              "version_major": 2,
              "version_minor": 0
            },
            "text/plain": [
              "Training...:   0%|          | 0/234 [00:00<?, ?it/s]"
            ]
          },
          "metadata": {},
          "output_type": "display_data"
        },
        {
          "name": "stdout",
          "output_type": "stream",
          "text": [
            "Epoch: 41 | Generator loss: 1.015 | Discriminator loss: 0.564\n"
          ]
        },
        {
          "data": {
            "application/vnd.jupyter.widget-view+json": {
              "model_id": "e840e5e4385548a6b915bfd5b7114de6",
              "version_major": 2,
              "version_minor": 0
            },
            "text/plain": [
              "Training...:   0%|          | 0/234 [00:00<?, ?it/s]"
            ]
          },
          "metadata": {},
          "output_type": "display_data"
        },
        {
          "name": "stdout",
          "output_type": "stream",
          "text": [
            "Epoch: 42 | Generator loss: 0.838 | Discriminator loss: 0.587\n"
          ]
        },
        {
          "data": {
            "application/vnd.jupyter.widget-view+json": {
              "model_id": "ff882f8a73384cc0be5fc5c744ba19b3",
              "version_major": 2,
              "version_minor": 0
            },
            "text/plain": [
              "Training...:   0%|          | 0/234 [00:00<?, ?it/s]"
            ]
          },
          "metadata": {},
          "output_type": "display_data"
        },
        {
          "name": "stdout",
          "output_type": "stream",
          "text": [
            "Epoch: 43 | Generator loss: 1.132 | Discriminator loss: 0.687\n"
          ]
        },
        {
          "data": {
            "application/vnd.jupyter.widget-view+json": {
              "model_id": "926b572bfc0a4807a34ca52a2c6cc2fd",
              "version_major": 2,
              "version_minor": 0
            },
            "text/plain": [
              "Training...:   0%|          | 0/234 [00:00<?, ?it/s]"
            ]
          },
          "metadata": {},
          "output_type": "display_data"
        },
        {
          "name": "stdout",
          "output_type": "stream",
          "text": [
            "Epoch: 44 | Generator loss: 0.692 | Discriminator loss: 0.662\n"
          ]
        },
        {
          "data": {
            "application/vnd.jupyter.widget-view+json": {
              "model_id": "9ecd30e5f2eb4c8ea511ac748568269d",
              "version_major": 2,
              "version_minor": 0
            },
            "text/plain": [
              "Training...:   0%|          | 0/234 [00:00<?, ?it/s]"
            ]
          },
          "metadata": {},
          "output_type": "display_data"
        },
        {
          "name": "stdout",
          "output_type": "stream",
          "text": [
            "Epoch: 45 | Generator loss: 0.947 | Discriminator loss: 0.616\n"
          ]
        },
        {
          "data": {
            "application/vnd.jupyter.widget-view+json": {
              "model_id": "0cc8289915df455a9deaa6382c7d0f54",
              "version_major": 2,
              "version_minor": 0
            },
            "text/plain": [
              "Training...:   0%|          | 0/234 [00:00<?, ?it/s]"
            ]
          },
          "metadata": {},
          "output_type": "display_data"
        },
        {
          "name": "stdout",
          "output_type": "stream",
          "text": [
            "Epoch: 46 | Generator loss: 0.805 | Discriminator loss: 0.617\n"
          ]
        },
        {
          "data": {
            "application/vnd.jupyter.widget-view+json": {
              "model_id": "d547533bbe964f09ac9872695ca090bd",
              "version_major": 2,
              "version_minor": 0
            },
            "text/plain": [
              "Training...:   0%|          | 0/234 [00:00<?, ?it/s]"
            ]
          },
          "metadata": {},
          "output_type": "display_data"
        },
        {
          "name": "stdout",
          "output_type": "stream",
          "text": [
            "Epoch: 47 | Generator loss: 0.939 | Discriminator loss: 0.623\n"
          ]
        },
        {
          "data": {
            "application/vnd.jupyter.widget-view+json": {
              "model_id": "960968ad47ff42218ffdd7db7016df54",
              "version_major": 2,
              "version_minor": 0
            },
            "text/plain": [
              "Training...:   0%|          | 0/234 [00:00<?, ?it/s]"
            ]
          },
          "metadata": {},
          "output_type": "display_data"
        },
        {
          "name": "stdout",
          "output_type": "stream",
          "text": [
            "Epoch: 48 | Generator loss: 0.890 | Discriminator loss: 0.654\n"
          ]
        },
        {
          "data": {
            "application/vnd.jupyter.widget-view+json": {
              "model_id": "05908f174f1a40c18a8f883c95a0af77",
              "version_major": 2,
              "version_minor": 0
            },
            "text/plain": [
              "Training...:   0%|          | 0/234 [00:00<?, ?it/s]"
            ]
          },
          "metadata": {},
          "output_type": "display_data"
        },
        {
          "name": "stdout",
          "output_type": "stream",
          "text": [
            "Epoch: 49 | Generator loss: 1.055 | Discriminator loss: 0.627\n"
          ]
        },
        {
          "data": {
            "application/vnd.jupyter.widget-view+json": {
              "model_id": "e499b4dd8aa74cd099776690cb2e48de",
              "version_major": 2,
              "version_minor": 0
            },
            "text/plain": [
              "Training...:   0%|          | 0/234 [00:00<?, ?it/s]"
            ]
          },
          "metadata": {},
          "output_type": "display_data"
        },
        {
          "name": "stdout",
          "output_type": "stream",
          "text": [
            "Epoch: 50 | Generator loss: 0.825 | Discriminator loss: 0.623\n"
          ]
        },
        {
          "data": {
            "application/vnd.jupyter.widget-view+json": {
              "model_id": "e37b8190373a4c8491de97a4bf3d84b8",
              "version_major": 2,
              "version_minor": 0
            },
            "text/plain": [
              "Training...:   0%|          | 0/234 [00:00<?, ?it/s]"
            ]
          },
          "metadata": {},
          "output_type": "display_data"
        },
        {
          "name": "stdout",
          "output_type": "stream",
          "text": [
            "Epoch: 51 | Generator loss: 0.770 | Discriminator loss: 0.657\n"
          ]
        },
        {
          "data": {
            "application/vnd.jupyter.widget-view+json": {
              "model_id": "5404d1c226504487b874dc4e30c23e45",
              "version_major": 2,
              "version_minor": 0
            },
            "text/plain": [
              "Training...:   0%|          | 0/234 [00:00<?, ?it/s]"
            ]
          },
          "metadata": {},
          "output_type": "display_data"
        },
        {
          "name": "stdout",
          "output_type": "stream",
          "text": [
            "Epoch: 52 | Generator loss: 0.873 | Discriminator loss: 0.687\n"
          ]
        },
        {
          "data": {
            "application/vnd.jupyter.widget-view+json": {
              "model_id": "fb93238befac45eea3aca2314de53f99",
              "version_major": 2,
              "version_minor": 0
            },
            "text/plain": [
              "Training...:   0%|          | 0/234 [00:00<?, ?it/s]"
            ]
          },
          "metadata": {},
          "output_type": "display_data"
        },
        {
          "name": "stdout",
          "output_type": "stream",
          "text": [
            "Epoch: 53 | Generator loss: 0.811 | Discriminator loss: 0.646\n"
          ]
        },
        {
          "data": {
            "application/vnd.jupyter.widget-view+json": {
              "model_id": "67bd34809b244823a11c898f8a37fae4",
              "version_major": 2,
              "version_minor": 0
            },
            "text/plain": [
              "Training...:   0%|          | 0/234 [00:00<?, ?it/s]"
            ]
          },
          "metadata": {},
          "output_type": "display_data"
        },
        {
          "name": "stdout",
          "output_type": "stream",
          "text": [
            "Epoch: 54 | Generator loss: 0.764 | Discriminator loss: 0.645\n"
          ]
        },
        {
          "data": {
            "application/vnd.jupyter.widget-view+json": {
              "model_id": "f91a81d29cf74250982e719fa7da1154",
              "version_major": 2,
              "version_minor": 0
            },
            "text/plain": [
              "Training...:   0%|          | 0/234 [00:00<?, ?it/s]"
            ]
          },
          "metadata": {},
          "output_type": "display_data"
        },
        {
          "name": "stdout",
          "output_type": "stream",
          "text": [
            "Epoch: 55 | Generator loss: 0.834 | Discriminator loss: 0.651\n"
          ]
        },
        {
          "data": {
            "application/vnd.jupyter.widget-view+json": {
              "model_id": "a99ac2f8455f49608f652f40d59bf0fa",
              "version_major": 2,
              "version_minor": 0
            },
            "text/plain": [
              "Training...:   0%|          | 0/234 [00:00<?, ?it/s]"
            ]
          },
          "metadata": {},
          "output_type": "display_data"
        },
        {
          "name": "stdout",
          "output_type": "stream",
          "text": [
            "Epoch: 56 | Generator loss: 0.763 | Discriminator loss: 0.633\n"
          ]
        },
        {
          "data": {
            "application/vnd.jupyter.widget-view+json": {
              "model_id": "165af6becb7f4a2f84d059815452ba39",
              "version_major": 2,
              "version_minor": 0
            },
            "text/plain": [
              "Training...:   0%|          | 0/234 [00:00<?, ?it/s]"
            ]
          },
          "metadata": {},
          "output_type": "display_data"
        },
        {
          "name": "stdout",
          "output_type": "stream",
          "text": [
            "Epoch: 57 | Generator loss: 1.015 | Discriminator loss: 0.675\n"
          ]
        },
        {
          "data": {
            "application/vnd.jupyter.widget-view+json": {
              "model_id": "a77dab164c8a4bb3b1f179031a6f4347",
              "version_major": 2,
              "version_minor": 0
            },
            "text/plain": [
              "Training...:   0%|          | 0/234 [00:00<?, ?it/s]"
            ]
          },
          "metadata": {},
          "output_type": "display_data"
        },
        {
          "name": "stdout",
          "output_type": "stream",
          "text": [
            "Epoch: 58 | Generator loss: 1.054 | Discriminator loss: 0.651\n"
          ]
        },
        {
          "data": {
            "application/vnd.jupyter.widget-view+json": {
              "model_id": "fc75747e0ed64a7d8323c0aabaf460ad",
              "version_major": 2,
              "version_minor": 0
            },
            "text/plain": [
              "Training...:   0%|          | 0/234 [00:00<?, ?it/s]"
            ]
          },
          "metadata": {},
          "output_type": "display_data"
        },
        {
          "name": "stdout",
          "output_type": "stream",
          "text": [
            "Epoch: 59 | Generator loss: 0.794 | Discriminator loss: 0.648\n"
          ]
        },
        {
          "data": {
            "application/vnd.jupyter.widget-view+json": {
              "model_id": "a6ca817d8e7f43f397c4148544ee078e",
              "version_major": 2,
              "version_minor": 0
            },
            "text/plain": [
              "Training...:   0%|          | 0/234 [00:00<?, ?it/s]"
            ]
          },
          "metadata": {},
          "output_type": "display_data"
        },
        {
          "name": "stdout",
          "output_type": "stream",
          "text": [
            "Epoch: 60 | Generator loss: 0.598 | Discriminator loss: 0.669\n"
          ]
        },
        {
          "data": {
            "application/vnd.jupyter.widget-view+json": {
              "model_id": "8acb4f135edd41c2924a4977280c8975",
              "version_major": 2,
              "version_minor": 0
            },
            "text/plain": [
              "Training...:   0%|          | 0/234 [00:00<?, ?it/s]"
            ]
          },
          "metadata": {},
          "output_type": "display_data"
        },
        {
          "name": "stdout",
          "output_type": "stream",
          "text": [
            "Epoch: 61 | Generator loss: 0.687 | Discriminator loss: 0.656\n"
          ]
        },
        {
          "data": {
            "application/vnd.jupyter.widget-view+json": {
              "model_id": "bb31a4e801fa43c0b97d11bb5a02156d",
              "version_major": 2,
              "version_minor": 0
            },
            "text/plain": [
              "Training...:   0%|          | 0/234 [00:00<?, ?it/s]"
            ]
          },
          "metadata": {},
          "output_type": "display_data"
        },
        {
          "name": "stdout",
          "output_type": "stream",
          "text": [
            "Epoch: 62 | Generator loss: 0.838 | Discriminator loss: 0.627\n"
          ]
        },
        {
          "data": {
            "application/vnd.jupyter.widget-view+json": {
              "model_id": "fd32d32b7ae94ae2a0538b8a27d4fee6",
              "version_major": 2,
              "version_minor": 0
            },
            "text/plain": [
              "Training...:   0%|          | 0/234 [00:00<?, ?it/s]"
            ]
          },
          "metadata": {},
          "output_type": "display_data"
        },
        {
          "name": "stdout",
          "output_type": "stream",
          "text": [
            "Epoch: 63 | Generator loss: 0.791 | Discriminator loss: 0.656\n"
          ]
        },
        {
          "data": {
            "application/vnd.jupyter.widget-view+json": {
              "model_id": "eede5fa4a03546d18cf393db189ce269",
              "version_major": 2,
              "version_minor": 0
            },
            "text/plain": [
              "Training...:   0%|          | 0/234 [00:00<?, ?it/s]"
            ]
          },
          "metadata": {},
          "output_type": "display_data"
        },
        {
          "name": "stdout",
          "output_type": "stream",
          "text": [
            "Epoch: 64 | Generator loss: 0.868 | Discriminator loss: 0.658\n"
          ]
        },
        {
          "data": {
            "application/vnd.jupyter.widget-view+json": {
              "model_id": "180c33f9b78b47f691b95489e6362c6c",
              "version_major": 2,
              "version_minor": 0
            },
            "text/plain": [
              "Training...:   0%|          | 0/234 [00:00<?, ?it/s]"
            ]
          },
          "metadata": {},
          "output_type": "display_data"
        },
        {
          "name": "stdout",
          "output_type": "stream",
          "text": [
            "Epoch: 65 | Generator loss: 0.684 | Discriminator loss: 0.675\n"
          ]
        },
        {
          "data": {
            "application/vnd.jupyter.widget-view+json": {
              "model_id": "be0b124941f9462699038d1d13028a77",
              "version_major": 2,
              "version_minor": 0
            },
            "text/plain": [
              "Training...:   0%|          | 0/234 [00:00<?, ?it/s]"
            ]
          },
          "metadata": {},
          "output_type": "display_data"
        },
        {
          "name": "stdout",
          "output_type": "stream",
          "text": [
            "Epoch: 66 | Generator loss: 0.768 | Discriminator loss: 0.673\n"
          ]
        },
        {
          "data": {
            "application/vnd.jupyter.widget-view+json": {
              "model_id": "9966b3e080604860b5bb5b1cf47449b2",
              "version_major": 2,
              "version_minor": 0
            },
            "text/plain": [
              "Training...:   0%|          | 0/234 [00:00<?, ?it/s]"
            ]
          },
          "metadata": {},
          "output_type": "display_data"
        },
        {
          "name": "stdout",
          "output_type": "stream",
          "text": [
            "Epoch: 67 | Generator loss: 0.742 | Discriminator loss: 0.652\n"
          ]
        },
        {
          "data": {
            "application/vnd.jupyter.widget-view+json": {
              "model_id": "b745099c78984669b713cc2abbf957e1",
              "version_major": 2,
              "version_minor": 0
            },
            "text/plain": [
              "Training...:   0%|          | 0/234 [00:00<?, ?it/s]"
            ]
          },
          "metadata": {},
          "output_type": "display_data"
        },
        {
          "name": "stdout",
          "output_type": "stream",
          "text": [
            "Epoch: 68 | Generator loss: 0.847 | Discriminator loss: 0.657\n"
          ]
        },
        {
          "data": {
            "application/vnd.jupyter.widget-view+json": {
              "model_id": "ab307854bff44391b6a71a9b339a6b37",
              "version_major": 2,
              "version_minor": 0
            },
            "text/plain": [
              "Training...:   0%|          | 0/234 [00:00<?, ?it/s]"
            ]
          },
          "metadata": {},
          "output_type": "display_data"
        },
        {
          "name": "stdout",
          "output_type": "stream",
          "text": [
            "Epoch: 69 | Generator loss: 0.698 | Discriminator loss: 0.663\n"
          ]
        },
        {
          "data": {
            "application/vnd.jupyter.widget-view+json": {
              "model_id": "4b5e591529284969b5b0a5033988606d",
              "version_major": 2,
              "version_minor": 0
            },
            "text/plain": [
              "Training...:   0%|          | 0/234 [00:00<?, ?it/s]"
            ]
          },
          "metadata": {},
          "output_type": "display_data"
        },
        {
          "name": "stdout",
          "output_type": "stream",
          "text": [
            "Epoch: 70 | Generator loss: 0.797 | Discriminator loss: 0.670\n"
          ]
        },
        {
          "data": {
            "application/vnd.jupyter.widget-view+json": {
              "model_id": "df29cbce40b24a399b74b1f02b3cd933",
              "version_major": 2,
              "version_minor": 0
            },
            "text/plain": [
              "Training...:   0%|          | 0/234 [00:00<?, ?it/s]"
            ]
          },
          "metadata": {},
          "output_type": "display_data"
        },
        {
          "name": "stdout",
          "output_type": "stream",
          "text": [
            "Epoch: 71 | Generator loss: 0.799 | Discriminator loss: 0.718\n"
          ]
        },
        {
          "data": {
            "application/vnd.jupyter.widget-view+json": {
              "model_id": "73115e3cc1f94f3f9e992dd148aed30d",
              "version_major": 2,
              "version_minor": 0
            },
            "text/plain": [
              "Training...:   0%|          | 0/234 [00:00<?, ?it/s]"
            ]
          },
          "metadata": {},
          "output_type": "display_data"
        },
        {
          "name": "stdout",
          "output_type": "stream",
          "text": [
            "Epoch: 72 | Generator loss: 0.661 | Discriminator loss: 0.653\n"
          ]
        },
        {
          "data": {
            "application/vnd.jupyter.widget-view+json": {
              "model_id": "c8754a4f0a9847a2b634729a7ad34907",
              "version_major": 2,
              "version_minor": 0
            },
            "text/plain": [
              "Training...:   0%|          | 0/234 [00:00<?, ?it/s]"
            ]
          },
          "metadata": {},
          "output_type": "display_data"
        },
        {
          "name": "stdout",
          "output_type": "stream",
          "text": [
            "Epoch: 73 | Generator loss: 0.786 | Discriminator loss: 0.653\n"
          ]
        },
        {
          "data": {
            "application/vnd.jupyter.widget-view+json": {
              "model_id": "263b3cce9505493c95dbca0ac2913cca",
              "version_major": 2,
              "version_minor": 0
            },
            "text/plain": [
              "Training...:   0%|          | 0/234 [00:00<?, ?it/s]"
            ]
          },
          "metadata": {},
          "output_type": "display_data"
        },
        {
          "name": "stdout",
          "output_type": "stream",
          "text": [
            "Epoch: 74 | Generator loss: 0.743 | Discriminator loss: 0.649\n"
          ]
        },
        {
          "data": {
            "application/vnd.jupyter.widget-view+json": {
              "model_id": "7bb904eeb0d14be1a639dd451129239b",
              "version_major": 2,
              "version_minor": 0
            },
            "text/plain": [
              "Training...:   0%|          | 0/234 [00:00<?, ?it/s]"
            ]
          },
          "metadata": {},
          "output_type": "display_data"
        },
        {
          "name": "stdout",
          "output_type": "stream",
          "text": [
            "Epoch: 75 | Generator loss: 1.325 | Discriminator loss: 0.745\n"
          ]
        },
        {
          "data": {
            "application/vnd.jupyter.widget-view+json": {
              "model_id": "f9c815aa26b141af802b6ab38c2ac1b9",
              "version_major": 2,
              "version_minor": 0
            },
            "text/plain": [
              "Training...:   0%|          | 0/234 [00:00<?, ?it/s]"
            ]
          },
          "metadata": {},
          "output_type": "display_data"
        },
        {
          "name": "stdout",
          "output_type": "stream",
          "text": [
            "Epoch: 76 | Generator loss: 1.133 | Discriminator loss: 0.679\n"
          ]
        },
        {
          "data": {
            "application/vnd.jupyter.widget-view+json": {
              "model_id": "20537a88b16646d5985041b5afd95ff3",
              "version_major": 2,
              "version_minor": 0
            },
            "text/plain": [
              "Training...:   0%|          | 0/234 [00:00<?, ?it/s]"
            ]
          },
          "metadata": {},
          "output_type": "display_data"
        },
        {
          "name": "stdout",
          "output_type": "stream",
          "text": [
            "Epoch: 77 | Generator loss: 0.490 | Discriminator loss: 0.731\n"
          ]
        },
        {
          "data": {
            "application/vnd.jupyter.widget-view+json": {
              "model_id": "ce12536b0f3d42c59536097b7c08ad26",
              "version_major": 2,
              "version_minor": 0
            },
            "text/plain": [
              "Training...:   0%|          | 0/234 [00:00<?, ?it/s]"
            ]
          },
          "metadata": {},
          "output_type": "display_data"
        },
        {
          "name": "stdout",
          "output_type": "stream",
          "text": [
            "Epoch: 78 | Generator loss: 0.824 | Discriminator loss: 0.648\n"
          ]
        },
        {
          "data": {
            "application/vnd.jupyter.widget-view+json": {
              "model_id": "04a3ce752c504159a24c60613420b830",
              "version_major": 2,
              "version_minor": 0
            },
            "text/plain": [
              "Training...:   0%|          | 0/234 [00:00<?, ?it/s]"
            ]
          },
          "metadata": {},
          "output_type": "display_data"
        },
        {
          "name": "stdout",
          "output_type": "stream",
          "text": [
            "Epoch: 79 | Generator loss: 0.688 | Discriminator loss: 0.680\n"
          ]
        },
        {
          "data": {
            "application/vnd.jupyter.widget-view+json": {
              "model_id": "4a59e93457f1469e8d4bc08d60d24090",
              "version_major": 2,
              "version_minor": 0
            },
            "text/plain": [
              "Training...:   0%|          | 0/234 [00:00<?, ?it/s]"
            ]
          },
          "metadata": {},
          "output_type": "display_data"
        },
        {
          "name": "stdout",
          "output_type": "stream",
          "text": [
            "Epoch: 80 | Generator loss: 0.703 | Discriminator loss: 0.666\n"
          ]
        },
        {
          "data": {
            "application/vnd.jupyter.widget-view+json": {
              "model_id": "9de4e8e3f4264fbe859096b4d61cad8e",
              "version_major": 2,
              "version_minor": 0
            },
            "text/plain": [
              "Training...:   0%|          | 0/234 [00:00<?, ?it/s]"
            ]
          },
          "metadata": {},
          "output_type": "display_data"
        },
        {
          "name": "stdout",
          "output_type": "stream",
          "text": [
            "Epoch: 81 | Generator loss: 0.427 | Discriminator loss: 0.740\n"
          ]
        },
        {
          "data": {
            "application/vnd.jupyter.widget-view+json": {
              "model_id": "74ecaa1a7d74469095fcedaeb2d1558b",
              "version_major": 2,
              "version_minor": 0
            },
            "text/plain": [
              "Training...:   0%|          | 0/234 [00:00<?, ?it/s]"
            ]
          },
          "metadata": {},
          "output_type": "display_data"
        },
        {
          "name": "stdout",
          "output_type": "stream",
          "text": [
            "Epoch: 82 | Generator loss: 0.602 | Discriminator loss: 0.679\n"
          ]
        },
        {
          "data": {
            "application/vnd.jupyter.widget-view+json": {
              "model_id": "dc3b6c6f32ed465ba273c9ba8b7559c2",
              "version_major": 2,
              "version_minor": 0
            },
            "text/plain": [
              "Training...:   0%|          | 0/234 [00:00<?, ?it/s]"
            ]
          },
          "metadata": {},
          "output_type": "display_data"
        },
        {
          "name": "stdout",
          "output_type": "stream",
          "text": [
            "Epoch: 83 | Generator loss: 0.807 | Discriminator loss: 0.680\n"
          ]
        },
        {
          "data": {
            "application/vnd.jupyter.widget-view+json": {
              "model_id": "a36f824763554bf58b6e3b04861c82c4",
              "version_major": 2,
              "version_minor": 0
            },
            "text/plain": [
              "Training...:   0%|          | 0/234 [00:00<?, ?it/s]"
            ]
          },
          "metadata": {},
          "output_type": "display_data"
        },
        {
          "name": "stdout",
          "output_type": "stream",
          "text": [
            "Epoch: 84 | Generator loss: 0.713 | Discriminator loss: 0.646\n"
          ]
        },
        {
          "data": {
            "application/vnd.jupyter.widget-view+json": {
              "model_id": "6fee626b34b1432881ab7347f5a7ba99",
              "version_major": 2,
              "version_minor": 0
            },
            "text/plain": [
              "Training...:   0%|          | 0/234 [00:00<?, ?it/s]"
            ]
          },
          "metadata": {},
          "output_type": "display_data"
        },
        {
          "name": "stdout",
          "output_type": "stream",
          "text": [
            "Epoch: 85 | Generator loss: 0.794 | Discriminator loss: 0.678\n"
          ]
        },
        {
          "data": {
            "application/vnd.jupyter.widget-view+json": {
              "model_id": "319a3953556d49aba3998a95d734de78",
              "version_major": 2,
              "version_minor": 0
            },
            "text/plain": [
              "Training...:   0%|          | 0/234 [00:00<?, ?it/s]"
            ]
          },
          "metadata": {},
          "output_type": "display_data"
        },
        {
          "name": "stdout",
          "output_type": "stream",
          "text": [
            "Epoch: 86 | Generator loss: 0.763 | Discriminator loss: 0.665\n"
          ]
        },
        {
          "data": {
            "application/vnd.jupyter.widget-view+json": {
              "model_id": "a5967f343d194ebd9808d715169a3a89",
              "version_major": 2,
              "version_minor": 0
            },
            "text/plain": [
              "Training...:   0%|          | 0/234 [00:00<?, ?it/s]"
            ]
          },
          "metadata": {},
          "output_type": "display_data"
        },
        {
          "name": "stdout",
          "output_type": "stream",
          "text": [
            "Epoch: 87 | Generator loss: 0.710 | Discriminator loss: 0.690\n"
          ]
        },
        {
          "data": {
            "application/vnd.jupyter.widget-view+json": {
              "model_id": "797ecafc068c4e728173beedcb8a2ca6",
              "version_major": 2,
              "version_minor": 0
            },
            "text/plain": [
              "Training...:   0%|          | 0/234 [00:00<?, ?it/s]"
            ]
          },
          "metadata": {},
          "output_type": "display_data"
        },
        {
          "name": "stdout",
          "output_type": "stream",
          "text": [
            "Epoch: 88 | Generator loss: 0.761 | Discriminator loss: 0.675\n"
          ]
        },
        {
          "data": {
            "application/vnd.jupyter.widget-view+json": {
              "model_id": "ed4e6c8a76954f868274a866c367e889",
              "version_major": 2,
              "version_minor": 0
            },
            "text/plain": [
              "Training...:   0%|          | 0/234 [00:00<?, ?it/s]"
            ]
          },
          "metadata": {},
          "output_type": "display_data"
        },
        {
          "name": "stdout",
          "output_type": "stream",
          "text": [
            "Epoch: 89 | Generator loss: 0.782 | Discriminator loss: 0.674\n"
          ]
        },
        {
          "data": {
            "application/vnd.jupyter.widget-view+json": {
              "model_id": "06a0bf00cd6848ffbbef4a3aa9d91e04",
              "version_major": 2,
              "version_minor": 0
            },
            "text/plain": [
              "Training...:   0%|          | 0/234 [00:00<?, ?it/s]"
            ]
          },
          "metadata": {},
          "output_type": "display_data"
        },
        {
          "name": "stdout",
          "output_type": "stream",
          "text": [
            "Epoch: 90 | Generator loss: 0.723 | Discriminator loss: 0.658\n"
          ]
        },
        {
          "data": {
            "application/vnd.jupyter.widget-view+json": {
              "model_id": "2cdc493a89404b2596c81134e0a5478e",
              "version_major": 2,
              "version_minor": 0
            },
            "text/plain": [
              "Training...:   0%|          | 0/234 [00:00<?, ?it/s]"
            ]
          },
          "metadata": {},
          "output_type": "display_data"
        },
        {
          "name": "stdout",
          "output_type": "stream",
          "text": [
            "Epoch: 91 | Generator loss: 0.777 | Discriminator loss: 0.693\n"
          ]
        },
        {
          "data": {
            "application/vnd.jupyter.widget-view+json": {
              "model_id": "4f1064e5d10c4f6083583a95a256eb53",
              "version_major": 2,
              "version_minor": 0
            },
            "text/plain": [
              "Training...:   0%|          | 0/234 [00:00<?, ?it/s]"
            ]
          },
          "metadata": {},
          "output_type": "display_data"
        },
        {
          "name": "stdout",
          "output_type": "stream",
          "text": [
            "Epoch: 92 | Generator loss: 0.773 | Discriminator loss: 0.670\n"
          ]
        },
        {
          "data": {
            "application/vnd.jupyter.widget-view+json": {
              "model_id": "ffbdfb8e45474992a29a2eaa4b4bbba7",
              "version_major": 2,
              "version_minor": 0
            },
            "text/plain": [
              "Training...:   0%|          | 0/234 [00:00<?, ?it/s]"
            ]
          },
          "metadata": {},
          "output_type": "display_data"
        },
        {
          "name": "stdout",
          "output_type": "stream",
          "text": [
            "Epoch: 93 | Generator loss: 0.892 | Discriminator loss: 0.690\n"
          ]
        },
        {
          "data": {
            "application/vnd.jupyter.widget-view+json": {
              "model_id": "de688f118e1d4cf0b4c5a958f7cd3572",
              "version_major": 2,
              "version_minor": 0
            },
            "text/plain": [
              "Training...:   0%|          | 0/234 [00:00<?, ?it/s]"
            ]
          },
          "metadata": {},
          "output_type": "display_data"
        },
        {
          "name": "stdout",
          "output_type": "stream",
          "text": [
            "Epoch: 94 | Generator loss: 0.762 | Discriminator loss: 0.676\n"
          ]
        },
        {
          "data": {
            "application/vnd.jupyter.widget-view+json": {
              "model_id": "b3f2a9235802422ab0575333f9e72c2b",
              "version_major": 2,
              "version_minor": 0
            },
            "text/plain": [
              "Training...:   0%|          | 0/234 [00:00<?, ?it/s]"
            ]
          },
          "metadata": {},
          "output_type": "display_data"
        },
        {
          "name": "stdout",
          "output_type": "stream",
          "text": [
            "Epoch: 95 | Generator loss: 0.731 | Discriminator loss: 0.688\n"
          ]
        },
        {
          "data": {
            "application/vnd.jupyter.widget-view+json": {
              "model_id": "75b199e6cda943b68583e9ac8d532373",
              "version_major": 2,
              "version_minor": 0
            },
            "text/plain": [
              "Training...:   0%|          | 0/234 [00:00<?, ?it/s]"
            ]
          },
          "metadata": {},
          "output_type": "display_data"
        },
        {
          "name": "stdout",
          "output_type": "stream",
          "text": [
            "Epoch: 96 | Generator loss: 0.723 | Discriminator loss: 0.674\n"
          ]
        },
        {
          "data": {
            "application/vnd.jupyter.widget-view+json": {
              "model_id": "aa7703c0b6f84ccca53699a5d426b6a4",
              "version_major": 2,
              "version_minor": 0
            },
            "text/plain": [
              "Training...:   0%|          | 0/234 [00:00<?, ?it/s]"
            ]
          },
          "metadata": {},
          "output_type": "display_data"
        },
        {
          "name": "stdout",
          "output_type": "stream",
          "text": [
            "Epoch: 97 | Generator loss: 0.654 | Discriminator loss: 0.683\n"
          ]
        },
        {
          "data": {
            "application/vnd.jupyter.widget-view+json": {
              "model_id": "4be499a7aac14de5bce1601337f2c3fc",
              "version_major": 2,
              "version_minor": 0
            },
            "text/plain": [
              "Training...:   0%|          | 0/234 [00:00<?, ?it/s]"
            ]
          },
          "metadata": {},
          "output_type": "display_data"
        },
        {
          "name": "stdout",
          "output_type": "stream",
          "text": [
            "Epoch: 98 | Generator loss: 0.786 | Discriminator loss: 0.683\n"
          ]
        },
        {
          "data": {
            "application/vnd.jupyter.widget-view+json": {
              "model_id": "423ab1cbe99543689d90cae1168f609c",
              "version_major": 2,
              "version_minor": 0
            },
            "text/plain": [
              "Training...:   0%|          | 0/234 [00:00<?, ?it/s]"
            ]
          },
          "metadata": {},
          "output_type": "display_data"
        },
        {
          "name": "stdout",
          "output_type": "stream",
          "text": [
            "Epoch: 99 | Generator loss: 0.778 | Discriminator loss: 0.668\n"
          ]
        },
        {
          "data": {
            "application/vnd.jupyter.widget-view+json": {
              "model_id": "557d80cd2e82443cb9b91efb7afad674",
              "version_major": 2,
              "version_minor": 0
            },
            "text/plain": [
              "Training...:   0%|          | 0/234 [00:00<?, ?it/s]"
            ]
          },
          "metadata": {},
          "output_type": "display_data"
        },
        {
          "name": "stdout",
          "output_type": "stream",
          "text": [
            "Epoch: 100 | Generator loss: 0.862 | Discriminator loss: 0.678\n"
          ]
        }
      ],
      "source": [
        "import matplotlib.pyplot as plt\n",
        "from tqdm.notebook import tqdm\n",
        "\n",
        "\n",
        "for epoch in tqdm(range(1, args['epochs'] + 1), desc=\"Epoch...\",\n",
        "                  position=0, leave=True):\n",
        "  \n",
        "  with tqdm(total=batches_in_epoch, desc=\"Training...\",\n",
        "            leave=False) as progress_bar_train:\n",
        "    for batch in range(batches_in_epoch):\n",
        "\n",
        "      # Generate RNG keys for generator and discriminator.\n",
        "      key, key_generator, key_discriminator = jax.random.split(key, 3)\n",
        "      key_generator = shard_prng_key(key_generator)\n",
        "      key_discriminator = shard_prng_key(key_discriminator)\n",
        "\n",
        "      # Shard the data to possible devices.\n",
        "      batch_data = shard(next(data_gen))\n",
        "\n",
        "      # Take a step with the generator.\n",
        "      generator_state, generator_loss = generator_step(generator_state, \n",
        "          discriminator_state, key_generator)\n",
        "\n",
        "      # Take a step with the discriminator.\n",
        "      discriminator_state, discriminator_loss = discriminator_step(\n",
        "          generator_state, discriminator_state, batch_data, key_discriminator)\n",
        "\n",
        "      progress_bar_train.update(1)\n",
        "    \n",
        "    metrics = jax.device_get([generator_loss[0], discriminator_loss[1]])\n",
        "\n",
        "    message = f\"Epoch: {epoch: <2} | \"\n",
        "    message += f\"Generator loss: {metrics[0]:.3f} | \"\n",
        "    message += f\"Discriminator loss: {metrics[1]:.3f}\"\n",
        "    progress_bar_train.write(message)\n",
        "\n",
        "  # Sample from the generator using the fixed input. We need to\n",
        "  # reshape if we are working on multiple devices.\n",
        "  sample = sample_from_generator(generator_state, generator_input)\n",
        "  sample = sample.reshape((-1, 28, 28))\n",
        "\n",
        "  # Next, plot the static samples, save the fig to disk.\n",
        "  if epoch % 10 == 0:\n",
        "    fig, axes = plt.subplots(nrows=10, ncols=10, figsize=(10, 10))\n",
        "    for ax, image in zip(sum(axes.tolist(), []), sample):\n",
        "      ax.imshow(image, cmap='gray')\n",
        "      ax.set_axis_off()\n",
        "    fig.savefig(f\"results/1_GAN/GAN_epoch_{epoch}.png\")\n",
        "    plt.close(fig)"
      ]
    },
    {
      "cell_type": "code",
      "execution_count": 14,
      "metadata": {
        "colab": {
          "base_uri": "https://localhost:8080/",
          "height": 729
        },
        "id": "iB7xNP_APTWz",
        "outputId": "7eee3aa6-0ce9-45b6-98e0-6183c5ba5d2a"
      },
      "outputs": [
        {
          "data": {
            "image/png": "[encoded data removed]",
            "text/plain": [
              "<Figure size 1000x1000 with 1 Axes>"
            ]
          },
          "metadata": {},
          "output_type": "display_data"
        }
      ],
      "source": [
        "import matplotlib.image as mpimg\n",
        "\n",
        "# Load latest epoch results.\n",
        "img = mpimg.imread(os.path.join('results', '1_GAN', f'GAN_epoch_{100}.png'))\n",
        "\n",
        "\n",
        "fig, ax = plt.subplots(figsize=(10, 10))\n",
        "ax.imshow(img, interpolation='nearest')\n",
        "plt.axis('off')\n",
        "plt.tight_layout()\n",
        "plt.show()"
      ]
    }
  ],
  "metadata": {
    "accelerator": "TPU",
    "colab": {
      "name": "1_GANs_FINISHED.ipynb",
      "provenance": []
    },
    "kernelspec": {
      "display_name": "Python 3.10.6 ('python3.10')",
      "language": "python",
      "name": "python3"
    },
    "language_info": {
      "codemirror_mode": {
        "name": "ipython",
        "version": 3
      },
      "file_extension": ".py",
      "mimetype": "text/x-python",
      "name": "python",
      "nbconvert_exporter": "python",
      "pygments_lexer": "ipython3",
      "version": "3.10.6"
    },
    "varInspector": {
      "cols": {
        "lenName": 16,
        "lenType": 16,
        "lenVar": 40
      },
      "kernels_config": {
        "python": {
          "delete_cmd_postfix": "",
          "delete_cmd_prefix": "del ",
          "library": "var_list.py",
          "varRefreshCmd": "print(var_dic_list())"
        },
        "r": {
          "delete_cmd_postfix": ") ",
          "delete_cmd_prefix": "rm(",
          "library": "var_list.r",
          "varRefreshCmd": "cat(var_dic_list()) "
        }
      },
      "types_to_exclude": [
        "module",
        "function",
        "builtin_function_or_method",
        "instance",
        "_Feature"
      ],
      "window_display": false
    },
    "vscode": {
      "interpreter": {
        "hash": "4d5bbc90547c8ba0b4e6ac5d6ff9c75838f9b373a6adaf23b1514500c20e42f8"
      }
    },
    "widgets": {
      "application/vnd.jupyter.widget-state+json": {
        "00fc66c1aa874db1af9a11be16cedbc9": {
          "model_module": "@jupyter-widgets/controls",
          "model_module_version": "1.5.0",
          "model_name": "HTMLModel",
          "state": {
            "_dom_classes": [],
            "_model_module": "@jupyter-widgets/controls",
            "_model_module_version": "1.5.0",
            "_model_name": "HTMLModel",
            "_view_count": null,
            "_view_module": "@jupyter-widgets/controls",
            "_view_module_version": "1.5.0",
            "_view_name": "HTMLView",
            "description": "",
            "description_tooltip": null,
            "layout": "IPY_MODEL_1ae59aaab13245d9a051a9438d8f2a6d",
            "placeholder": "​",
            "style": "IPY_MODEL_b0f125e02c7948df826438352fc45847",
            "value": "Training...:  38%"
          }
        },
        "016e0969016349428b5293fd1dbc0d6f": {
          "model_module": "@jupyter-widgets/controls",
          "model_module_version": "1.5.0",
          "model_name": "FloatProgressModel",
          "state": {
            "_dom_classes": [],
            "_model_module": "@jupyter-widgets/controls",
            "_model_module_version": "1.5.0",
            "_model_name": "FloatProgressModel",
            "_view_count": null,
            "_view_module": "@jupyter-widgets/controls",
            "_view_module_version": "1.5.0",
            "_view_name": "ProgressView",
            "bar_style": "success",
            "description": "",
            "description_tooltip": null,
            "layout": "IPY_MODEL_60bb3e83189843b2990958a48a4137ab",
            "max": 4,
            "min": 0,
            "orientation": "horizontal",
            "style": "IPY_MODEL_cfb2a86fdc964eb18ecbb4d65a4ddbd0",
            "value": 4
          }
        },
        "026dbfd7ab2544aeb16833af24d46b79": {
          "model_module": "@jupyter-widgets/controls",
          "model_module_version": "1.5.0",
          "model_name": "HTMLModel",
          "state": {
            "_dom_classes": [],
            "_model_module": "@jupyter-widgets/controls",
            "_model_module_version": "1.5.0",
            "_model_name": "HTMLModel",
            "_view_count": null,
            "_view_module": "@jupyter-widgets/controls",
            "_view_module_version": "1.5.0",
            "_view_name": "HTMLView",
            "description": "",
            "description_tooltip": null,
            "layout": "IPY_MODEL_23fff0798a2f4e63b244c96889dd9cf3",
            "placeholder": "​",
            "style": "IPY_MODEL_4ae7a325c5834d1ea70bca068cb9526d",
            "value": " 4/4 [00:00&lt;00:00,  7.55 file/s]"
          }
        },
        "0706357c27a94cf79ddf0943cd25233c": {
          "model_module": "@jupyter-widgets/controls",
          "model_module_version": "1.5.0",
          "model_name": "ProgressStyleModel",
          "state": {
            "_model_module": "@jupyter-widgets/controls",
            "_model_module_version": "1.5.0",
            "_model_name": "ProgressStyleModel",
            "_view_count": null,
            "_view_module": "@jupyter-widgets/base",
            "_view_module_version": "1.2.0",
            "_view_name": "StyleView",
            "bar_color": null,
            "description_width": ""
          }
        },
        "1ae59aaab13245d9a051a9438d8f2a6d": {
          "model_module": "@jupyter-widgets/base",
          "model_module_version": "1.2.0",
          "model_name": "LayoutModel",
          "state": {
            "_model_module": "@jupyter-widgets/base",
            "_model_module_version": "1.2.0",
            "_model_name": "LayoutModel",
            "_view_count": null,
            "_view_module": "@jupyter-widgets/base",
            "_view_module_version": "1.2.0",
            "_view_name": "LayoutView",
            "align_content": null,
            "align_items": null,
            "align_self": null,
            "border": null,
            "bottom": null,
            "display": null,
            "flex": null,
            "flex_flow": null,
            "grid_area": null,
            "grid_auto_columns": null,
            "grid_auto_flow": null,
            "grid_auto_rows": null,
            "grid_column": null,
            "grid_gap": null,
            "grid_row": null,
            "grid_template_areas": null,
            "grid_template_columns": null,
            "grid_template_rows": null,
            "height": null,
            "justify_content": null,
            "justify_items": null,
            "left": null,
            "margin": null,
            "max_height": null,
            "max_width": null,
            "min_height": null,
            "min_width": null,
            "object_fit": null,
            "object_position": null,
            "order": null,
            "overflow": null,
            "overflow_x": null,
            "overflow_y": null,
            "padding": null,
            "right": null,
            "top": null,
            "visibility": null,
            "width": null
          }
        },
        "23fff0798a2f4e63b244c96889dd9cf3": {
          "model_module": "@jupyter-widgets/base",
          "model_module_version": "1.2.0",
          "model_name": "LayoutModel",
          "state": {
            "_model_module": "@jupyter-widgets/base",
            "_model_module_version": "1.2.0",
            "_model_name": "LayoutModel",
            "_view_count": null,
            "_view_module": "@jupyter-widgets/base",
            "_view_module_version": "1.2.0",
            "_view_name": "LayoutView",
            "align_content": null,
            "align_items": null,
            "align_self": null,
            "border": null,
            "bottom": null,
            "display": null,
            "flex": null,
            "flex_flow": null,
            "grid_area": null,
            "grid_auto_columns": null,
            "grid_auto_flow": null,
            "grid_auto_rows": null,
            "grid_column": null,
            "grid_gap": null,
            "grid_row": null,
            "grid_template_areas": null,
            "grid_template_columns": null,
            "grid_template_rows": null,
            "height": null,
            "justify_content": null,
            "justify_items": null,
            "left": null,
            "margin": null,
            "max_height": null,
            "max_width": null,
            "min_height": null,
            "min_width": null,
            "object_fit": null,
            "object_position": null,
            "order": null,
            "overflow": null,
            "overflow_x": null,
            "overflow_y": null,
            "padding": null,
            "right": null,
            "top": null,
            "visibility": null,
            "width": null
          }
        },
        "248a8cbb30ed4c5ea06bab5372890efd": {
          "model_module": "@jupyter-widgets/controls",
          "model_module_version": "1.5.0",
          "model_name": "HTMLModel",
          "state": {
            "_dom_classes": [],
            "_model_module": "@jupyter-widgets/controls",
            "_model_module_version": "1.5.0",
            "_model_name": "HTMLModel",
            "_view_count": null,
            "_view_module": "@jupyter-widgets/controls",
            "_view_module_version": "1.5.0",
            "_view_name": "HTMLView",
            "description": "",
            "description_tooltip": null,
            "layout": "IPY_MODEL_4cd2365b07674afe8375da83c1b0f3c6",
            "placeholder": "​",
            "style": "IPY_MODEL_f1de00f2a3bd460fbe9ccd15b5881b5e",
            "value": " 0/100 [00:00&lt;?, ?it/s]"
          }
        },
        "37aa277c8a38413abfca87bf92c2673a": {
          "model_module": "@jupyter-widgets/base",
          "model_module_version": "1.2.0",
          "model_name": "LayoutModel",
          "state": {
            "_model_module": "@jupyter-widgets/base",
            "_model_module_version": "1.2.0",
            "_model_name": "LayoutModel",
            "_view_count": null,
            "_view_module": "@jupyter-widgets/base",
            "_view_module_version": "1.2.0",
            "_view_name": "LayoutView",
            "align_content": null,
            "align_items": null,
            "align_self": null,
            "border": null,
            "bottom": null,
            "display": null,
            "flex": null,
            "flex_flow": null,
            "grid_area": null,
            "grid_auto_columns": null,
            "grid_auto_flow": null,
            "grid_auto_rows": null,
            "grid_column": null,
            "grid_gap": null,
            "grid_row": null,
            "grid_template_areas": null,
            "grid_template_columns": null,
            "grid_template_rows": null,
            "height": null,
            "justify_content": null,
            "justify_items": null,
            "left": null,
            "margin": null,
            "max_height": null,
            "max_width": null,
            "min_height": null,
            "min_width": null,
            "object_fit": null,
            "object_position": null,
            "order": null,
            "overflow": null,
            "overflow_x": null,
            "overflow_y": null,
            "padding": null,
            "right": null,
            "top": null,
            "visibility": null,
            "width": null
          }
        },
        "399952b505474a35b668033505a3d407": {
          "model_module": "@jupyter-widgets/controls",
          "model_module_version": "1.5.0",
          "model_name": "DescriptionStyleModel",
          "state": {
            "_model_module": "@jupyter-widgets/controls",
            "_model_module_version": "1.5.0",
            "_model_name": "DescriptionStyleModel",
            "_view_count": null,
            "_view_module": "@jupyter-widgets/base",
            "_view_module_version": "1.2.0",
            "_view_name": "StyleView",
            "description_width": ""
          }
        },
        "413ffc5ab1df4cc98fddd0e695e9487c": {
          "model_module": "@jupyter-widgets/base",
          "model_module_version": "1.2.0",
          "model_name": "LayoutModel",
          "state": {
            "_model_module": "@jupyter-widgets/base",
            "_model_module_version": "1.2.0",
            "_model_name": "LayoutModel",
            "_view_count": null,
            "_view_module": "@jupyter-widgets/base",
            "_view_module_version": "1.2.0",
            "_view_name": "LayoutView",
            "align_content": null,
            "align_items": null,
            "align_self": null,
            "border": null,
            "bottom": null,
            "display": null,
            "flex": null,
            "flex_flow": null,
            "grid_area": null,
            "grid_auto_columns": null,
            "grid_auto_flow": null,
            "grid_auto_rows": null,
            "grid_column": null,
            "grid_gap": null,
            "grid_row": null,
            "grid_template_areas": null,
            "grid_template_columns": null,
            "grid_template_rows": null,
            "height": null,
            "justify_content": null,
            "justify_items": null,
            "left": null,
            "margin": null,
            "max_height": null,
            "max_width": null,
            "min_height": null,
            "min_width": null,
            "object_fit": null,
            "object_position": null,
            "order": null,
            "overflow": null,
            "overflow_x": null,
            "overflow_y": null,
            "padding": null,
            "right": null,
            "top": null,
            "visibility": null,
            "width": null
          }
        },
        "43ede6698aa64482aafb03ed59e5f43c": {
          "model_module": "@jupyter-widgets/controls",
          "model_module_version": "1.5.0",
          "model_name": "HBoxModel",
          "state": {
            "_dom_classes": [],
            "_model_module": "@jupyter-widgets/controls",
            "_model_module_version": "1.5.0",
            "_model_name": "HBoxModel",
            "_view_count": null,
            "_view_module": "@jupyter-widgets/controls",
            "_view_module_version": "1.5.0",
            "_view_name": "HBoxView",
            "box_style": "",
            "children": [
              "IPY_MODEL_6a8fb4a1d581411f8d23ece14d4e1959",
              "IPY_MODEL_016e0969016349428b5293fd1dbc0d6f",
              "IPY_MODEL_026dbfd7ab2544aeb16833af24d46b79"
            ],
            "layout": "IPY_MODEL_b5294c1891274a4b861ba7a38f230722"
          }
        },
        "4600c63fade74b18b8907c65f785425d": {
          "model_module": "@jupyter-widgets/base",
          "model_module_version": "1.2.0",
          "model_name": "LayoutModel",
          "state": {
            "_model_module": "@jupyter-widgets/base",
            "_model_module_version": "1.2.0",
            "_model_name": "LayoutModel",
            "_view_count": null,
            "_view_module": "@jupyter-widgets/base",
            "_view_module_version": "1.2.0",
            "_view_name": "LayoutView",
            "align_content": null,
            "align_items": null,
            "align_self": null,
            "border": null,
            "bottom": null,
            "display": null,
            "flex": null,
            "flex_flow": null,
            "grid_area": null,
            "grid_auto_columns": null,
            "grid_auto_flow": null,
            "grid_auto_rows": null,
            "grid_column": null,
            "grid_gap": null,
            "grid_row": null,
            "grid_template_areas": null,
            "grid_template_columns": null,
            "grid_template_rows": null,
            "height": null,
            "justify_content": null,
            "justify_items": null,
            "left": null,
            "margin": null,
            "max_height": null,
            "max_width": null,
            "min_height": null,
            "min_width": null,
            "object_fit": null,
            "object_position": null,
            "order": null,
            "overflow": null,
            "overflow_x": null,
            "overflow_y": null,
            "padding": null,
            "right": null,
            "top": null,
            "visibility": null,
            "width": null
          }
        },
        "4ae7a325c5834d1ea70bca068cb9526d": {
          "model_module": "@jupyter-widgets/controls",
          "model_module_version": "1.5.0",
          "model_name": "DescriptionStyleModel",
          "state": {
            "_model_module": "@jupyter-widgets/controls",
            "_model_module_version": "1.5.0",
            "_model_name": "DescriptionStyleModel",
            "_view_count": null,
            "_view_module": "@jupyter-widgets/base",
            "_view_module_version": "1.2.0",
            "_view_name": "StyleView",
            "description_width": ""
          }
        },
        "4bc634e44e414c94a9223ba3d6dd209f": {
          "model_module": "@jupyter-widgets/controls",
          "model_module_version": "1.5.0",
          "model_name": "ProgressStyleModel",
          "state": {
            "_model_module": "@jupyter-widgets/controls",
            "_model_module_version": "1.5.0",
            "_model_name": "ProgressStyleModel",
            "_view_count": null,
            "_view_module": "@jupyter-widgets/base",
            "_view_module_version": "1.2.0",
            "_view_name": "StyleView",
            "bar_color": null,
            "description_width": ""
          }
        },
        "4cd2365b07674afe8375da83c1b0f3c6": {
          "model_module": "@jupyter-widgets/base",
          "model_module_version": "1.2.0",
          "model_name": "LayoutModel",
          "state": {
            "_model_module": "@jupyter-widgets/base",
            "_model_module_version": "1.2.0",
            "_model_name": "LayoutModel",
            "_view_count": null,
            "_view_module": "@jupyter-widgets/base",
            "_view_module_version": "1.2.0",
            "_view_name": "LayoutView",
            "align_content": null,
            "align_items": null,
            "align_self": null,
            "border": null,
            "bottom": null,
            "display": null,
            "flex": null,
            "flex_flow": null,
            "grid_area": null,
            "grid_auto_columns": null,
            "grid_auto_flow": null,
            "grid_auto_rows": null,
            "grid_column": null,
            "grid_gap": null,
            "grid_row": null,
            "grid_template_areas": null,
            "grid_template_columns": null,
            "grid_template_rows": null,
            "height": null,
            "justify_content": null,
            "justify_items": null,
            "left": null,
            "margin": null,
            "max_height": null,
            "max_width": null,
            "min_height": null,
            "min_width": null,
            "object_fit": null,
            "object_position": null,
            "order": null,
            "overflow": null,
            "overflow_x": null,
            "overflow_y": null,
            "padding": null,
            "right": null,
            "top": null,
            "visibility": null,
            "width": null
          }
        },
        "60bb3e83189843b2990958a48a4137ab": {
          "model_module": "@jupyter-widgets/base",
          "model_module_version": "1.2.0",
          "model_name": "LayoutModel",
          "state": {
            "_model_module": "@jupyter-widgets/base",
            "_model_module_version": "1.2.0",
            "_model_name": "LayoutModel",
            "_view_count": null,
            "_view_module": "@jupyter-widgets/base",
            "_view_module_version": "1.2.0",
            "_view_name": "LayoutView",
            "align_content": null,
            "align_items": null,
            "align_self": null,
            "border": null,
            "bottom": null,
            "display": null,
            "flex": null,
            "flex_flow": null,
            "grid_area": null,
            "grid_auto_columns": null,
            "grid_auto_flow": null,
            "grid_auto_rows": null,
            "grid_column": null,
            "grid_gap": null,
            "grid_row": null,
            "grid_template_areas": null,
            "grid_template_columns": null,
            "grid_template_rows": null,
            "height": null,
            "justify_content": null,
            "justify_items": null,
            "left": null,
            "margin": null,
            "max_height": null,
            "max_width": null,
            "min_height": null,
            "min_width": null,
            "object_fit": null,
            "object_position": null,
            "order": null,
            "overflow": null,
            "overflow_x": null,
            "overflow_y": null,
            "padding": null,
            "right": null,
            "top": null,
            "visibility": null,
            "width": null
          }
        },
        "6a8fb4a1d581411f8d23ece14d4e1959": {
          "model_module": "@jupyter-widgets/controls",
          "model_module_version": "1.5.0",
          "model_name": "HTMLModel",
          "state": {
            "_dom_classes": [],
            "_model_module": "@jupyter-widgets/controls",
            "_model_module_version": "1.5.0",
            "_model_name": "HTMLModel",
            "_view_count": null,
            "_view_module": "@jupyter-widgets/controls",
            "_view_module_version": "1.5.0",
            "_view_name": "HTMLView",
            "description": "",
            "description_tooltip": null,
            "layout": "IPY_MODEL_e2e0a3f171c742629dda1e887a264d63",
            "placeholder": "​",
            "style": "IPY_MODEL_6c54a8779dee4c4fbc0a1a3fb477684f",
            "value": "Dl Completed...: 100%"
          }
        },
        "6c54a8779dee4c4fbc0a1a3fb477684f": {
          "model_module": "@jupyter-widgets/controls",
          "model_module_version": "1.5.0",
          "model_name": "DescriptionStyleModel",
          "state": {
            "_model_module": "@jupyter-widgets/controls",
            "_model_module_version": "1.5.0",
            "_model_name": "DescriptionStyleModel",
            "_view_count": null,
            "_view_module": "@jupyter-widgets/base",
            "_view_module_version": "1.2.0",
            "_view_name": "StyleView",
            "description_width": ""
          }
        },
        "73fe13e29a87495aa54a1f14e2f51ef1": {
          "model_module": "@jupyter-widgets/base",
          "model_module_version": "1.2.0",
          "model_name": "LayoutModel",
          "state": {
            "_model_module": "@jupyter-widgets/base",
            "_model_module_version": "1.2.0",
            "_model_name": "LayoutModel",
            "_view_count": null,
            "_view_module": "@jupyter-widgets/base",
            "_view_module_version": "1.2.0",
            "_view_name": "LayoutView",
            "align_content": null,
            "align_items": null,
            "align_self": null,
            "border": null,
            "bottom": null,
            "display": null,
            "flex": null,
            "flex_flow": null,
            "grid_area": null,
            "grid_auto_columns": null,
            "grid_auto_flow": null,
            "grid_auto_rows": null,
            "grid_column": null,
            "grid_gap": null,
            "grid_row": null,
            "grid_template_areas": null,
            "grid_template_columns": null,
            "grid_template_rows": null,
            "height": null,
            "justify_content": null,
            "justify_items": null,
            "left": null,
            "margin": null,
            "max_height": null,
            "max_width": null,
            "min_height": null,
            "min_width": null,
            "object_fit": null,
            "object_position": null,
            "order": null,
            "overflow": null,
            "overflow_x": null,
            "overflow_y": null,
            "padding": null,
            "right": null,
            "top": null,
            "visibility": null,
            "width": null
          }
        },
        "74ceb748718140a49fc977289f97bd20": {
          "model_module": "@jupyter-widgets/controls",
          "model_module_version": "1.5.0",
          "model_name": "HBoxModel",
          "state": {
            "_dom_classes": [],
            "_model_module": "@jupyter-widgets/controls",
            "_model_module_version": "1.5.0",
            "_model_name": "HBoxModel",
            "_view_count": null,
            "_view_module": "@jupyter-widgets/controls",
            "_view_module_version": "1.5.0",
            "_view_name": "HBoxView",
            "box_style": "",
            "children": [
              "IPY_MODEL_bc5ef5e7cd05492d83f4841ed70c4fb7",
              "IPY_MODEL_7e1e0f138d4540b1833c54778418e034",
              "IPY_MODEL_248a8cbb30ed4c5ea06bab5372890efd"
            ],
            "layout": "IPY_MODEL_8f2a1e4321b04ec4938f6dad0d465d5c"
          }
        },
        "7e1e0f138d4540b1833c54778418e034": {
          "model_module": "@jupyter-widgets/controls",
          "model_module_version": "1.5.0",
          "model_name": "FloatProgressModel",
          "state": {
            "_dom_classes": [],
            "_model_module": "@jupyter-widgets/controls",
            "_model_module_version": "1.5.0",
            "_model_name": "FloatProgressModel",
            "_view_count": null,
            "_view_module": "@jupyter-widgets/controls",
            "_view_module_version": "1.5.0",
            "_view_name": "ProgressView",
            "bar_style": "",
            "description": "",
            "description_tooltip": null,
            "layout": "IPY_MODEL_413ffc5ab1df4cc98fddd0e695e9487c",
            "max": 100,
            "min": 0,
            "orientation": "horizontal",
            "style": "IPY_MODEL_4bc634e44e414c94a9223ba3d6dd209f",
            "value": 0
          }
        },
        "8d5ad5b7d833439d84d55c6844583c1e": {
          "model_module": "@jupyter-widgets/base",
          "model_module_version": "1.2.0",
          "model_name": "LayoutModel",
          "state": {
            "_model_module": "@jupyter-widgets/base",
            "_model_module_version": "1.2.0",
            "_model_name": "LayoutModel",
            "_view_count": null,
            "_view_module": "@jupyter-widgets/base",
            "_view_module_version": "1.2.0",
            "_view_name": "LayoutView",
            "align_content": null,
            "align_items": null,
            "align_self": null,
            "border": null,
            "bottom": null,
            "display": null,
            "flex": null,
            "flex_flow": null,
            "grid_area": null,
            "grid_auto_columns": null,
            "grid_auto_flow": null,
            "grid_auto_rows": null,
            "grid_column": null,
            "grid_gap": null,
            "grid_row": null,
            "grid_template_areas": null,
            "grid_template_columns": null,
            "grid_template_rows": null,
            "height": null,
            "justify_content": null,
            "justify_items": null,
            "left": null,
            "margin": null,
            "max_height": null,
            "max_width": null,
            "min_height": null,
            "min_width": null,
            "object_fit": null,
            "object_position": null,
            "order": null,
            "overflow": null,
            "overflow_x": null,
            "overflow_y": null,
            "padding": null,
            "right": null,
            "top": null,
            "visibility": null,
            "width": null
          }
        },
        "8f2a1e4321b04ec4938f6dad0d465d5c": {
          "model_module": "@jupyter-widgets/base",
          "model_module_version": "1.2.0",
          "model_name": "LayoutModel",
          "state": {
            "_model_module": "@jupyter-widgets/base",
            "_model_module_version": "1.2.0",
            "_model_name": "LayoutModel",
            "_view_count": null,
            "_view_module": "@jupyter-widgets/base",
            "_view_module_version": "1.2.0",
            "_view_name": "LayoutView",
            "align_content": null,
            "align_items": null,
            "align_self": null,
            "border": null,
            "bottom": null,
            "display": null,
            "flex": null,
            "flex_flow": null,
            "grid_area": null,
            "grid_auto_columns": null,
            "grid_auto_flow": null,
            "grid_auto_rows": null,
            "grid_column": null,
            "grid_gap": null,
            "grid_row": null,
            "grid_template_areas": null,
            "grid_template_columns": null,
            "grid_template_rows": null,
            "height": null,
            "justify_content": null,
            "justify_items": null,
            "left": null,
            "margin": null,
            "max_height": null,
            "max_width": null,
            "min_height": null,
            "min_width": null,
            "object_fit": null,
            "object_position": null,
            "order": null,
            "overflow": null,
            "overflow_x": null,
            "overflow_y": null,
            "padding": null,
            "right": null,
            "top": null,
            "visibility": null,
            "width": null
          }
        },
        "a1c1b67febc44c4eadbd175b4452af15": {
          "model_module": "@jupyter-widgets/controls",
          "model_module_version": "1.5.0",
          "model_name": "FloatProgressModel",
          "state": {
            "_dom_classes": [],
            "_model_module": "@jupyter-widgets/controls",
            "_model_module_version": "1.5.0",
            "_model_name": "FloatProgressModel",
            "_view_count": null,
            "_view_module": "@jupyter-widgets/controls",
            "_view_module_version": "1.5.0",
            "_view_name": "ProgressView",
            "bar_style": "",
            "description": "",
            "description_tooltip": null,
            "layout": "IPY_MODEL_73fe13e29a87495aa54a1f14e2f51ef1",
            "max": 234,
            "min": 0,
            "orientation": "horizontal",
            "style": "IPY_MODEL_0706357c27a94cf79ddf0943cd25233c",
            "value": 88
          }
        },
        "ae78a9ef25c34058a2f2214b80825da9": {
          "model_module": "@jupyter-widgets/controls",
          "model_module_version": "1.5.0",
          "model_name": "HTMLModel",
          "state": {
            "_dom_classes": [],
            "_model_module": "@jupyter-widgets/controls",
            "_model_module_version": "1.5.0",
            "_model_name": "HTMLModel",
            "_view_count": null,
            "_view_module": "@jupyter-widgets/controls",
            "_view_module_version": "1.5.0",
            "_view_name": "HTMLView",
            "description": "",
            "description_tooltip": null,
            "layout": "IPY_MODEL_4600c63fade74b18b8907c65f785425d",
            "placeholder": "​",
            "style": "IPY_MODEL_dfe0c0d165954cbbbaf18013dafb3f59",
            "value": " 88/234 [40:18&lt;1:11:48, 29.51s/it]"
          }
        },
        "b0f125e02c7948df826438352fc45847": {
          "model_module": "@jupyter-widgets/controls",
          "model_module_version": "1.5.0",
          "model_name": "DescriptionStyleModel",
          "state": {
            "_model_module": "@jupyter-widgets/controls",
            "_model_module_version": "1.5.0",
            "_model_name": "DescriptionStyleModel",
            "_view_count": null,
            "_view_module": "@jupyter-widgets/base",
            "_view_module_version": "1.2.0",
            "_view_name": "StyleView",
            "description_width": ""
          }
        },
        "b5294c1891274a4b861ba7a38f230722": {
          "model_module": "@jupyter-widgets/base",
          "model_module_version": "1.2.0",
          "model_name": "LayoutModel",
          "state": {
            "_model_module": "@jupyter-widgets/base",
            "_model_module_version": "1.2.0",
            "_model_name": "LayoutModel",
            "_view_count": null,
            "_view_module": "@jupyter-widgets/base",
            "_view_module_version": "1.2.0",
            "_view_name": "LayoutView",
            "align_content": null,
            "align_items": null,
            "align_self": null,
            "border": null,
            "bottom": null,
            "display": null,
            "flex": null,
            "flex_flow": null,
            "grid_area": null,
            "grid_auto_columns": null,
            "grid_auto_flow": null,
            "grid_auto_rows": null,
            "grid_column": null,
            "grid_gap": null,
            "grid_row": null,
            "grid_template_areas": null,
            "grid_template_columns": null,
            "grid_template_rows": null,
            "height": null,
            "justify_content": null,
            "justify_items": null,
            "left": null,
            "margin": null,
            "max_height": null,
            "max_width": null,
            "min_height": null,
            "min_width": null,
            "object_fit": null,
            "object_position": null,
            "order": null,
            "overflow": null,
            "overflow_x": null,
            "overflow_y": null,
            "padding": null,
            "right": null,
            "top": null,
            "visibility": null,
            "width": null
          }
        },
        "bc5ef5e7cd05492d83f4841ed70c4fb7": {
          "model_module": "@jupyter-widgets/controls",
          "model_module_version": "1.5.0",
          "model_name": "HTMLModel",
          "state": {
            "_dom_classes": [],
            "_model_module": "@jupyter-widgets/controls",
            "_model_module_version": "1.5.0",
            "_model_name": "HTMLModel",
            "_view_count": null,
            "_view_module": "@jupyter-widgets/controls",
            "_view_module_version": "1.5.0",
            "_view_name": "HTMLView",
            "description": "",
            "description_tooltip": null,
            "layout": "IPY_MODEL_37aa277c8a38413abfca87bf92c2673a",
            "placeholder": "​",
            "style": "IPY_MODEL_399952b505474a35b668033505a3d407",
            "value": "Epoch...:   0%"
          }
        },
        "c1ff79cac3224ec79f92436dd71d5510": {
          "model_module": "@jupyter-widgets/controls",
          "model_module_version": "1.5.0",
          "model_name": "HBoxModel",
          "state": {
            "_dom_classes": [],
            "_model_module": "@jupyter-widgets/controls",
            "_model_module_version": "1.5.0",
            "_model_name": "HBoxModel",
            "_view_count": null,
            "_view_module": "@jupyter-widgets/controls",
            "_view_module_version": "1.5.0",
            "_view_name": "HBoxView",
            "box_style": "",
            "children": [
              "IPY_MODEL_00fc66c1aa874db1af9a11be16cedbc9",
              "IPY_MODEL_a1c1b67febc44c4eadbd175b4452af15",
              "IPY_MODEL_ae78a9ef25c34058a2f2214b80825da9"
            ],
            "layout": "IPY_MODEL_8d5ad5b7d833439d84d55c6844583c1e"
          }
        },
        "cfb2a86fdc964eb18ecbb4d65a4ddbd0": {
          "model_module": "@jupyter-widgets/controls",
          "model_module_version": "1.5.0",
          "model_name": "ProgressStyleModel",
          "state": {
            "_model_module": "@jupyter-widgets/controls",
            "_model_module_version": "1.5.0",
            "_model_name": "ProgressStyleModel",
            "_view_count": null,
            "_view_module": "@jupyter-widgets/base",
            "_view_module_version": "1.2.0",
            "_view_name": "StyleView",
            "bar_color": null,
            "description_width": ""
          }
        },
        "dfe0c0d165954cbbbaf18013dafb3f59": {
          "model_module": "@jupyter-widgets/controls",
          "model_module_version": "1.5.0",
          "model_name": "DescriptionStyleModel",
          "state": {
            "_model_module": "@jupyter-widgets/controls",
            "_model_module_version": "1.5.0",
            "_model_name": "DescriptionStyleModel",
            "_view_count": null,
            "_view_module": "@jupyter-widgets/base",
            "_view_module_version": "1.2.0",
            "_view_name": "StyleView",
            "description_width": ""
          }
        },
        "e2e0a3f171c742629dda1e887a264d63": {
          "model_module": "@jupyter-widgets/base",
          "model_module_version": "1.2.0",
          "model_name": "LayoutModel",
          "state": {
            "_model_module": "@jupyter-widgets/base",
            "_model_module_version": "1.2.0",
            "_model_name": "LayoutModel",
            "_view_count": null,
            "_view_module": "@jupyter-widgets/base",
            "_view_module_version": "1.2.0",
            "_view_name": "LayoutView",
            "align_content": null,
            "align_items": null,
            "align_self": null,
            "border": null,
            "bottom": null,
            "display": null,
            "flex": null,
            "flex_flow": null,
            "grid_area": null,
            "grid_auto_columns": null,
            "grid_auto_flow": null,
            "grid_auto_rows": null,
            "grid_column": null,
            "grid_gap": null,
            "grid_row": null,
            "grid_template_areas": null,
            "grid_template_columns": null,
            "grid_template_rows": null,
            "height": null,
            "justify_content": null,
            "justify_items": null,
            "left": null,
            "margin": null,
            "max_height": null,
            "max_width": null,
            "min_height": null,
            "min_width": null,
            "object_fit": null,
            "object_position": null,
            "order": null,
            "overflow": null,
            "overflow_x": null,
            "overflow_y": null,
            "padding": null,
            "right": null,
            "top": null,
            "visibility": null,
            "width": null
          }
        },
        "f1de00f2a3bd460fbe9ccd15b5881b5e": {
          "model_module": "@jupyter-widgets/controls",
          "model_module_version": "1.5.0",
          "model_name": "DescriptionStyleModel",
          "state": {
            "_model_module": "@jupyter-widgets/controls",
            "_model_module_version": "1.5.0",
            "_model_name": "DescriptionStyleModel",
            "_view_count": null,
            "_view_module": "@jupyter-widgets/base",
            "_view_module_version": "1.2.0",
            "_view_name": "StyleView",
            "description_width": ""
          }
        }
      }
    }
  },
  "nbformat": 4,
  "nbformat_minor": 0
}
